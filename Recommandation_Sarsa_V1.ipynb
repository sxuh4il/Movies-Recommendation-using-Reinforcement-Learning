{
 "cells": [
  {
   "cell_type": "markdown",
   "id": "b74f778b",
   "metadata": {},
   "source": [
    "## Système de Recommandation de Contenus avec SARSA"
   ]
  },
  {
   "cell_type": "markdown",
   "id": "d53b8de5",
   "metadata": {},
   "source": [
    "### 🧠 Objectif du projet :\n",
    "Construire un système de recommandation intelligent qui apprend à proposer les contenus les plus pertinents aux utilisateurs en analysant leurs interactions (clics, temps passé, etc.) sur une plateforme en ligne. Le système utilise l’algorithme SARSA (State-Action-Reward-State-Action) de Reinforcement Learning pour apprendre une politique de recommandation optimisée.\n",
    "\n"
   ]
  },
  {
   "cell_type": "markdown",
   "id": "f8b22c3a",
   "metadata": {},
   "source": [
    "#### Labraries"
   ]
  },
  {
   "cell_type": "code",
   "execution_count": 1,
   "id": "76bab252",
   "metadata": {},
   "outputs": [],
   "source": [
    "import numpy as np\n",
    "import pandas as pd\n",
    "import matplotlib.pyplot as plt\n",
    "import seaborn as sns\n",
    "from tqdm import tqdm\n"
   ]
  },
  {
   "cell_type": "markdown",
   "id": "530b88d0",
   "metadata": {},
   "source": [
    "#### Load data"
   ]
  },
  {
   "cell_type": "code",
   "execution_count": 2,
   "id": "2fa67138",
   "metadata": {},
   "outputs": [],
   "source": [
    "df = pd.read_csv(\"data/merged_movie_data.csv\",sep=';')"
   ]
  },
  {
   "cell_type": "code",
   "execution_count": 3,
   "id": "91103d78",
   "metadata": {},
   "outputs": [
    {
     "data": {
      "text/html": [
       "<div>\n",
       "<style scoped>\n",
       "    .dataframe tbody tr th:only-of-type {\n",
       "        vertical-align: middle;\n",
       "    }\n",
       "\n",
       "    .dataframe tbody tr th {\n",
       "        vertical-align: top;\n",
       "    }\n",
       "\n",
       "    .dataframe thead th {\n",
       "        text-align: right;\n",
       "    }\n",
       "</style>\n",
       "<table border=\"1\" class=\"dataframe\">\n",
       "  <thead>\n",
       "    <tr style=\"text-align: right;\">\n",
       "      <th></th>\n",
       "      <th>userId</th>\n",
       "      <th>movieId</th>\n",
       "      <th>rating</th>\n",
       "      <th>timestamp</th>\n",
       "      <th>title</th>\n",
       "      <th>genres</th>\n",
       "    </tr>\n",
       "  </thead>\n",
       "  <tbody>\n",
       "    <tr>\n",
       "      <th>52997</th>\n",
       "      <td>349</td>\n",
       "      <td>357</td>\n",
       "      <td>4.0</td>\n",
       "      <td>834751235</td>\n",
       "      <td>Four Weddings and a Funeral (1994)</td>\n",
       "      <td>Comedy|Romance</td>\n",
       "    </tr>\n",
       "    <tr>\n",
       "      <th>79496</th>\n",
       "      <td>494</td>\n",
       "      <td>2028</td>\n",
       "      <td>5.0</td>\n",
       "      <td>1001666475</td>\n",
       "      <td>Saving Private Ryan (1998)</td>\n",
       "      <td>Action|Drama|War</td>\n",
       "    </tr>\n",
       "    <tr>\n",
       "      <th>78802</th>\n",
       "      <td>489</td>\n",
       "      <td>3255</td>\n",
       "      <td>3.5</td>\n",
       "      <td>1385823957</td>\n",
       "      <td>League of Their Own, A (1992)</td>\n",
       "      <td>Comedy|Drama</td>\n",
       "    </tr>\n",
       "    <tr>\n",
       "      <th>39679</th>\n",
       "      <td>274</td>\n",
       "      <td>2702</td>\n",
       "      <td>3.5</td>\n",
       "      <td>1171829688</td>\n",
       "      <td>Summer of Sam (1999)</td>\n",
       "      <td>Drama</td>\n",
       "    </tr>\n",
       "    <tr>\n",
       "      <th>84765</th>\n",
       "      <td>549</td>\n",
       "      <td>1036</td>\n",
       "      <td>4.0</td>\n",
       "      <td>1464282638</td>\n",
       "      <td>Die Hard (1988)</td>\n",
       "      <td>Action|Crime|Thriller</td>\n",
       "    </tr>\n",
       "    <tr>\n",
       "      <th>55992</th>\n",
       "      <td>369</td>\n",
       "      <td>59126</td>\n",
       "      <td>4.0</td>\n",
       "      <td>1237082441</td>\n",
       "      <td>Religulous (2008)</td>\n",
       "      <td>Comedy|Documentary</td>\n",
       "    </tr>\n",
       "    <tr>\n",
       "      <th>23722</th>\n",
       "      <td>162</td>\n",
       "      <td>296</td>\n",
       "      <td>3.0</td>\n",
       "      <td>836488867</td>\n",
       "      <td>Pulp Fiction (1994)</td>\n",
       "      <td>Comedy|Crime|Drama|Thriller</td>\n",
       "    </tr>\n",
       "    <tr>\n",
       "      <th>39892</th>\n",
       "      <td>274</td>\n",
       "      <td>4306</td>\n",
       "      <td>3.5</td>\n",
       "      <td>1171494063</td>\n",
       "      <td>Shrek (2001)</td>\n",
       "      <td>Adventure|Animation|Children|Comedy|Fantasy|Ro...</td>\n",
       "    </tr>\n",
       "    <tr>\n",
       "      <th>63902</th>\n",
       "      <td>414</td>\n",
       "      <td>5291</td>\n",
       "      <td>4.0</td>\n",
       "      <td>1074004712</td>\n",
       "      <td>Rashomon (Rashômon) (1950)</td>\n",
       "      <td>Crime|Drama|Mystery</td>\n",
       "    </tr>\n",
       "    <tr>\n",
       "      <th>19646</th>\n",
       "      <td>127</td>\n",
       "      <td>36517</td>\n",
       "      <td>4.0</td>\n",
       "      <td>1263527372</td>\n",
       "      <td>Constant Gardener, The (2005)</td>\n",
       "      <td>Drama|Thriller</td>\n",
       "    </tr>\n",
       "  </tbody>\n",
       "</table>\n",
       "</div>"
      ],
      "text/plain": [
       "       userId  movieId  rating   timestamp  \\\n",
       "52997     349      357     4.0   834751235   \n",
       "79496     494     2028     5.0  1001666475   \n",
       "78802     489     3255     3.5  1385823957   \n",
       "39679     274     2702     3.5  1171829688   \n",
       "84765     549     1036     4.0  1464282638   \n",
       "55992     369    59126     4.0  1237082441   \n",
       "23722     162      296     3.0   836488867   \n",
       "39892     274     4306     3.5  1171494063   \n",
       "63902     414     5291     4.0  1074004712   \n",
       "19646     127    36517     4.0  1263527372   \n",
       "\n",
       "                                    title  \\\n",
       "52997  Four Weddings and a Funeral (1994)   \n",
       "79496          Saving Private Ryan (1998)   \n",
       "78802       League of Their Own, A (1992)   \n",
       "39679                Summer of Sam (1999)   \n",
       "84765                     Die Hard (1988)   \n",
       "55992                   Religulous (2008)   \n",
       "23722                 Pulp Fiction (1994)   \n",
       "39892                        Shrek (2001)   \n",
       "63902          Rashomon (Rashômon) (1950)   \n",
       "19646       Constant Gardener, The (2005)   \n",
       "\n",
       "                                                  genres  \n",
       "52997                                     Comedy|Romance  \n",
       "79496                                   Action|Drama|War  \n",
       "78802                                       Comedy|Drama  \n",
       "39679                                              Drama  \n",
       "84765                              Action|Crime|Thriller  \n",
       "55992                                 Comedy|Documentary  \n",
       "23722                        Comedy|Crime|Drama|Thriller  \n",
       "39892  Adventure|Animation|Children|Comedy|Fantasy|Ro...  \n",
       "63902                                Crime|Drama|Mystery  \n",
       "19646                                     Drama|Thriller  "
      ]
     },
     "execution_count": 3,
     "metadata": {},
     "output_type": "execute_result"
    }
   ],
   "source": [
    "df.sample(10)\n"
   ]
  },
  {
   "cell_type": "markdown",
   "id": "f75044f5",
   "metadata": {},
   "source": [
    "#### Filtrage des top utilisateurs et films"
   ]
  },
  {
   "cell_type": "markdown",
   "id": "7d4b9cd5",
   "metadata": {},
   "source": [
    "**=> Des milliers d’utilisateurs et de films.** \n",
    "\n",
    "**=> Beaucoup de données manquantes (certains utilisateurs notent très peu de films).**\n",
    "\n",
    "**=> Un grand déséquilibre (quelques films populaires sont notés très souvent, d’autres très rarement).**"
   ]
  },
  {
   "cell_type": "code",
   "execution_count": 4,
   "id": "9d8c7096",
   "metadata": {},
   "outputs": [],
   "source": [
    "top_users = df['userId'].value_counts().head(20).index.tolist()\n",
    "top_movies = df['movieId'].value_counts().head(50).index.tolist()\n",
    "df = df[df['userId'].isin(top_users) & df['movieId'].isin(top_movies)]"
   ]
  },
  {
   "cell_type": "markdown",
   "id": "79ad4f43",
   "metadata": {},
   "source": [
    "#### # Réindexation\n"
   ]
  },
  {
   "cell_type": "markdown",
   "id": "ff710241",
   "metadata": {},
   "source": [
    "**=> userId pour les lignes de Q-Table**\n",
    "\n",
    "**=> movieId pour les lignes de Q-Table**\n",
    "\n",
    "**=> idx_to_movie lorsqu'on extrait argmax(Q[\"state\"]) pour traduire l’index en vrai movieId**"
   ]
  },
  {
   "cell_type": "code",
   "execution_count": 5,
   "id": "b292d5fe",
   "metadata": {},
   "outputs": [],
   "source": [
    "user_to_idx = {uid: idx for idx, uid in enumerate(sorted(df['userId'].unique()))}\n",
    "movie_to_idx = {mid: idx for idx, mid in enumerate(sorted(df['movieId'].unique()))}\n",
    "idx_to_movie = {idx: mid for mid, idx in movie_to_idx.items()}\n",
    "idx_to_title = dict(zip(df['movieId'], df['title']))\n",
    "movie_genres = dict(zip(df['movieId'], df['genres']))"
   ]
  },
  {
   "cell_type": "code",
   "execution_count": 6,
   "id": "2f1dbbfb",
   "metadata": {},
   "outputs": [],
   "source": [
    "n_users = len(user_to_idx)\n",
    "n_movies = len(movie_to_idx)"
   ]
  },
  {
   "cell_type": "markdown",
   "id": "ef5e8c10",
   "metadata": {},
   "source": [
    "#### Extraction de tous les genres possibles\n"
   ]
  },
  {
   "cell_type": "code",
   "execution_count": 7,
   "id": "e88a400a",
   "metadata": {},
   "outputs": [],
   "source": [
    "genre_set = set()\n",
    "for g in df['genres']:\n",
    "    genre_set.update(g.split('|'))\n",
    "all_genres = sorted(genre_set)\n",
    "genre_to_idx = {g: i for i, g in enumerate(all_genres)}"
   ]
  },
  {
   "cell_type": "markdown",
   "id": "5d199320",
   "metadata": {},
   "source": [
    "#### Encodage des genres pour chaque film\n"
   ]
  },
  {
   "cell_type": "code",
   "execution_count": 8,
   "id": "59528d69",
   "metadata": {},
   "outputs": [],
   "source": [
    "def encoder_genres(genre_str):\n",
    "    vector = np.zeros(len(all_genres))\n",
    "    for g in genre_str.split('|'):\n",
    "        if g in genre_to_idx:\n",
    "            vector[genre_to_idx[g]] = 1\n",
    "    return vector"
   ]
  },
  {
   "cell_type": "code",
   "execution_count": 9,
   "id": "30e66420",
   "metadata": {},
   "outputs": [],
   "source": [
    "movie_genre_vectors = {mid: encoder_genres(genre_str) for mid, genre_str in movie_genres.items()}\n"
   ]
  },
  {
   "cell_type": "markdown",
   "id": "97d48362",
   "metadata": {},
   "source": [
    "#### Q-table\n"
   ]
  },
  {
   "cell_type": "code",
   "execution_count": 10,
   "id": "bb9c80db",
   "metadata": {},
   "outputs": [],
   "source": [
    "q_table = np.zeros((n_users, n_movies))\n",
    "\n",
    "# Hyperparamètres\n",
    "alpha,gamma,epsilon,episodes ,max_steps,coeff_genre = 0.1, 0.9, 0.1,500, 10, 0.5\n"
   ]
  },
  {
   "cell_type": "markdown",
   "id": "64eacf59",
   "metadata": {},
   "source": [
    "#### Politique ε-greedy\n"
   ]
  },
  {
   "cell_type": "code",
   "execution_count": 11,
   "id": "3691effe",
   "metadata": {},
   "outputs": [],
   "source": [
    "def choisir_action(user_idx):\n",
    "    if np.random.rand() < epsilon:\n",
    "        return np.random.randint(n_movies)\n",
    "    else:    \n",
    "        return np.argmax(q_table[user_idx])"
   ]
  },
  {
   "cell_type": "markdown",
   "id": "f2cd5fa6",
   "metadata": {},
   "source": [
    "#### Obtenir les genres préférés d’un utilisateur\n"
   ]
  },
  {
   "cell_type": "code",
   "execution_count": 12,
   "id": "0cb85f41",
   "metadata": {},
   "outputs": [],
   "source": [
    "def genres_utilisateur(user_id):\n",
    "    liked = df[(df['userId'] == user_id) & (df['rating'] >= 3.0)]\n",
    "    if liked.empty:\n",
    "        return np.zeros(len(all_genres))\n",
    "    vectors = np.array([movie_genre_vectors[mid] for mid in liked['movieId'] if mid in movie_genre_vectors])\n",
    "    return vectors.mean(axis=0)"
   ]
  },
  {
   "cell_type": "markdown",
   "id": "c37b3dc9",
   "metadata": {},
   "source": [
    "#### Récompense avec affinité de genre\n"
   ]
  },
  {
   "cell_type": "code",
   "execution_count": 13,
   "id": "659720bd",
   "metadata": {},
   "outputs": [],
   "source": [
    "def obtenir_recompense(user_idx, movie_idx):\n",
    "    user_id = list(user_to_idx.keys())[user_idx]\n",
    "    movie_id = list(movie_to_idx.keys())[movie_idx]\n",
    "\n",
    "    note_row = df[(df['userId'] == user_id) & (df['movieId'] == movie_id)]\n",
    "    note_reward = 1 if not note_row.empty and note_row['rating'].values[0] >= 3.0 else 0\n",
    "\n",
    "    user_pref = genres_utilisateur(user_id)\n",
    "    movie_vec = movie_genre_vectors.get(movie_id, np.zeros(len(all_genres)))\n",
    "    genre_similarity = np.dot(user_pref, movie_vec) / (np.linalg.norm(user_pref) + 1e-5)\n",
    "\n",
    "    return note_reward + coeff_genre * genre_similarity"
   ]
  },
  {
   "cell_type": "markdown",
   "id": "a8ded784",
   "metadata": {},
   "source": [
    "#### Entraînement SARSA\n"
   ]
  },
  {
   "cell_type": "code",
   "execution_count": 14,
   "id": "d86c159f",
   "metadata": {},
   "outputs": [
    {
     "name": "stderr",
     "output_type": "stream",
     "text": [
      "Episodes:   0%|          | 0/500 [00:00<?, ?it/s]"
     ]
    },
    {
     "name": "stderr",
     "output_type": "stream",
     "text": [
      "Episodes: 100%|██████████| 500/500 [00:12<00:00, 41.01it/s]\n"
     ]
    }
   ],
   "source": [
    "clics_par_episode = []\n",
    "\n",
    "for ep in tqdm(range(episodes), desc=\"Episodes\"):\n",
    "    user_idx = np.random.randint(n_users)\n",
    "    action = choisir_action(user_idx)\n",
    "    total_reward = 0\n",
    "\n",
    "    for _ in range(max_steps):\n",
    "        r = obtenir_recompense(user_idx, action)\n",
    "        total_reward += r\n",
    "\n",
    "        next_user_idx = np.random.randint(n_users)\n",
    "        next_action = choisir_action(next_user_idx)\n",
    "\n",
    "        cible = r + gamma * q_table[next_user_idx][next_action]\n",
    "        q_table[user_idx][action] += alpha * (cible - q_table[user_idx][action])\n",
    "\n",
    "        user_idx = next_user_idx\n",
    "        action = next_action\n",
    "\n",
    "    clics_par_episode.append(total_reward)\n",
    "\n"
   ]
  },
  {
   "cell_type": "code",
   "execution_count": 15,
   "id": "0509eacd",
   "metadata": {},
   "outputs": [
    {
     "data": {
      "image/png": "[encoded data removed]",
      "text/plain": [
       "<Figure size 640x480 with 1 Axes>"
      ]
     },
     "metadata": {},
     "output_type": "display_data"
    }
   ],
   "source": [
    "plt.plot(clics_par_episode)\n",
    "plt.title(\"Évolution des clics par épisode (SARSA)\")\n",
    "plt.xlabel(\"Épisode\")\n",
    "plt.ylabel(\"Nombre de clics\")\n",
    "plt.grid()\n",
    "plt.show()"
   ]
  },
  {
   "cell_type": "code",
   "execution_count": 16,
   "id": "74f1e115",
   "metadata": {},
   "outputs": [],
   "source": [
    "recommandations = []\n",
    "\n",
    "for user_id in user_to_idx:\n",
    "    user_idx = user_to_idx[user_id]\n",
    "    vus = set(df[df['userId'] == user_id]['movieId'])\n",
    "\n",
    "    genres_aimes = []\n",
    "    for _, row in df[(df['userId'] == user_id) & (df['rating'] >= 3.0)].iterrows():\n",
    "        genres = movie_genres.get(row['movieId'], \"\")\n",
    "        genres_aimes.extend(genres.split('|'))\n",
    "    genres_aimes = set(genres_aimes)\n",
    "\n",
    "    candidats = []\n",
    "    for movie_idx in range(n_movies):\n",
    "        movie_id = idx_to_movie[movie_idx]\n",
    "        if movie_id in vus:\n",
    "            continue\n",
    "        genres_film = set(movie_genres.get(movie_id, \"\").split('|'))\n",
    "        if not genres_aimes & genres_film:\n",
    "            continue\n",
    "        score = q_table[user_idx, movie_idx]\n",
    "        candidats.append((movie_id, idx_to_title.get(movie_id, \"Titre inconnu\"), score))\n",
    "\n",
    "    top_recos = sorted(candidats, key=lambda x: x[2], reverse=True)[:5]\n",
    "\n",
    "    for reco in top_recos:\n",
    "        recommandations.append({\n",
    "            'userId': user_id,\n",
    "            'movieId': reco[0],\n",
    "            'title': reco[1],\n",
    "            'score_Q': round(reco[2], 3)\n",
    "        })"
   ]
  },
  {
   "cell_type": "code",
   "execution_count": 17,
   "id": "0db810c3",
   "metadata": {},
   "outputs": [],
   "source": [
    "# Exporter les recommandations\n",
    "df_reco = pd.DataFrame(recommandations)\n",
    "df_reco.to_csv(\"recommandations_sarsa.csv\", index=False)\n"
   ]
  },
  {
   "cell_type": "code",
   "execution_count": 18,
   "id": "67262a26",
   "metadata": {},
   "outputs": [],
   "source": [
    "df_reco1 = pd.read_csv(\"recommandations_sarsa.csv\")"
   ]
  },
  {
   "cell_type": "code",
   "execution_count": 19,
   "id": "a3108acd",
   "metadata": {},
   "outputs": [
    {
     "data": {
      "text/html": [
       "<div>\n",
       "<style scoped>\n",
       "    .dataframe tbody tr th:only-of-type {\n",
       "        vertical-align: middle;\n",
       "    }\n",
       "\n",
       "    .dataframe tbody tr th {\n",
       "        vertical-align: top;\n",
       "    }\n",
       "\n",
       "    .dataframe thead th {\n",
       "        text-align: right;\n",
       "    }\n",
       "</style>\n",
       "<table border=\"1\" class=\"dataframe\">\n",
       "  <thead>\n",
       "    <tr style=\"text-align: right;\">\n",
       "      <th></th>\n",
       "      <th>userId</th>\n",
       "      <th>movieId</th>\n",
       "      <th>title</th>\n",
       "      <th>score_Q</th>\n",
       "    </tr>\n",
       "  </thead>\n",
       "  <tbody>\n",
       "    <tr>\n",
       "      <th>60</th>\n",
       "      <td>606</td>\n",
       "      <td>380</td>\n",
       "      <td>True Lies (1994)</td>\n",
       "      <td>1.411</td>\n",
       "    </tr>\n",
       "    <tr>\n",
       "      <th>6</th>\n",
       "      <td>182</td>\n",
       "      <td>595</td>\n",
       "      <td>Beauty and the Beast (1991)</td>\n",
       "      <td>5.165</td>\n",
       "    </tr>\n",
       "    <tr>\n",
       "      <th>67</th>\n",
       "      <td>610</td>\n",
       "      <td>588</td>\n",
       "      <td>Aladdin (1992)</td>\n",
       "      <td>1.071</td>\n",
       "    </tr>\n",
       "    <tr>\n",
       "      <th>36</th>\n",
       "      <td>380</td>\n",
       "      <td>150</td>\n",
       "      <td>Apollo 13 (1995)</td>\n",
       "      <td>0.936</td>\n",
       "    </tr>\n",
       "    <tr>\n",
       "      <th>52</th>\n",
       "      <td>480</td>\n",
       "      <td>58559</td>\n",
       "      <td>Dark Knight, The (2008)</td>\n",
       "      <td>0.596</td>\n",
       "    </tr>\n",
       "    <tr>\n",
       "      <th>39</th>\n",
       "      <td>380</td>\n",
       "      <td>590</td>\n",
       "      <td>Dances with Wolves (1990)</td>\n",
       "      <td>0.000</td>\n",
       "    </tr>\n",
       "    <tr>\n",
       "      <th>5</th>\n",
       "      <td>177</td>\n",
       "      <td>589</td>\n",
       "      <td>Terminator 2: Judgment Day (1991)</td>\n",
       "      <td>0.695</td>\n",
       "    </tr>\n",
       "    <tr>\n",
       "      <th>3</th>\n",
       "      <td>177</td>\n",
       "      <td>2762</td>\n",
       "      <td>Sixth Sense, The (1999)</td>\n",
       "      <td>0.726</td>\n",
       "    </tr>\n",
       "    <tr>\n",
       "      <th>37</th>\n",
       "      <td>380</td>\n",
       "      <td>2858</td>\n",
       "      <td>American Beauty (1999)</td>\n",
       "      <td>0.752</td>\n",
       "    </tr>\n",
       "    <tr>\n",
       "      <th>51</th>\n",
       "      <td>474</td>\n",
       "      <td>58559</td>\n",
       "      <td>Dark Knight, The (2008)</td>\n",
       "      <td>0.000</td>\n",
       "    </tr>\n",
       "    <tr>\n",
       "      <th>7</th>\n",
       "      <td>182</td>\n",
       "      <td>344</td>\n",
       "      <td>Ace Ventura: Pet Detective (1994)</td>\n",
       "      <td>0.000</td>\n",
       "    </tr>\n",
       "    <tr>\n",
       "      <th>49</th>\n",
       "      <td>448</td>\n",
       "      <td>110</td>\n",
       "      <td>Braveheart (1995)</td>\n",
       "      <td>0.384</td>\n",
       "    </tr>\n",
       "    <tr>\n",
       "      <th>63</th>\n",
       "      <td>606</td>\n",
       "      <td>595</td>\n",
       "      <td>Beauty and the Beast (1991)</td>\n",
       "      <td>0.072</td>\n",
       "    </tr>\n",
       "    <tr>\n",
       "      <th>8</th>\n",
       "      <td>182</td>\n",
       "      <td>364</td>\n",
       "      <td>Lion King, The (1994)</td>\n",
       "      <td>0.000</td>\n",
       "    </tr>\n",
       "    <tr>\n",
       "      <th>18</th>\n",
       "      <td>249</td>\n",
       "      <td>592</td>\n",
       "      <td>Batman (1989)</td>\n",
       "      <td>0.000</td>\n",
       "    </tr>\n",
       "    <tr>\n",
       "      <th>46</th>\n",
       "      <td>448</td>\n",
       "      <td>318</td>\n",
       "      <td>Shawshank Redemption, The (1994)</td>\n",
       "      <td>0.613</td>\n",
       "    </tr>\n",
       "    <tr>\n",
       "      <th>64</th>\n",
       "      <td>606</td>\n",
       "      <td>150</td>\n",
       "      <td>Apollo 13 (1995)</td>\n",
       "      <td>0.000</td>\n",
       "    </tr>\n",
       "    <tr>\n",
       "      <th>31</th>\n",
       "      <td>318</td>\n",
       "      <td>1</td>\n",
       "      <td>Toy Story (1995)</td>\n",
       "      <td>4.951</td>\n",
       "    </tr>\n",
       "    <tr>\n",
       "      <th>1</th>\n",
       "      <td>177</td>\n",
       "      <td>457</td>\n",
       "      <td>Fugitive, The (1993)</td>\n",
       "      <td>1.292</td>\n",
       "    </tr>\n",
       "    <tr>\n",
       "      <th>13</th>\n",
       "      <td>232</td>\n",
       "      <td>344</td>\n",
       "      <td>Ace Ventura: Pet Detective (1994)</td>\n",
       "      <td>0.596</td>\n",
       "    </tr>\n",
       "  </tbody>\n",
       "</table>\n",
       "</div>"
      ],
      "text/plain": [
       "    userId  movieId                              title  score_Q\n",
       "60     606      380                   True Lies (1994)    1.411\n",
       "6      182      595        Beauty and the Beast (1991)    5.165\n",
       "67     610      588                     Aladdin (1992)    1.071\n",
       "36     380      150                   Apollo 13 (1995)    0.936\n",
       "52     480    58559            Dark Knight, The (2008)    0.596\n",
       "39     380      590          Dances with Wolves (1990)    0.000\n",
       "5      177      589  Terminator 2: Judgment Day (1991)    0.695\n",
       "3      177     2762            Sixth Sense, The (1999)    0.726\n",
       "37     380     2858             American Beauty (1999)    0.752\n",
       "51     474    58559            Dark Knight, The (2008)    0.000\n",
       "7      182      344  Ace Ventura: Pet Detective (1994)    0.000\n",
       "49     448      110                  Braveheart (1995)    0.384\n",
       "63     606      595        Beauty and the Beast (1991)    0.072\n",
       "8      182      364              Lion King, The (1994)    0.000\n",
       "18     249      592                      Batman (1989)    0.000\n",
       "46     448      318   Shawshank Redemption, The (1994)    0.613\n",
       "64     606      150                   Apollo 13 (1995)    0.000\n",
       "31     318        1                   Toy Story (1995)    4.951\n",
       "1      177      457               Fugitive, The (1993)    1.292\n",
       "13     232      344  Ace Ventura: Pet Detective (1994)    0.596"
      ]
     },
     "execution_count": 19,
     "metadata": {},
     "output_type": "execute_result"
    }
   ],
   "source": [
    "df_reco1.sample(20)"
   ]
  }
 ],
 "metadata": {
  "kernelspec": {
   "display_name": "Python 3",
   "language": "python",
   "name": "python3"
  },
  "language_info": {
   "codemirror_mode": {
    "name": "ipython",
    "version": 3
   },
   "file_extension": ".py",
   "mimetype": "text/x-python",
   "name": "python",
   "nbconvert_exporter": "python",
   "pygments_lexer": "ipython3",
   "version": "3.12.2"
  }
 },
 "nbformat": 4,
 "nbformat_minor": 5
}
