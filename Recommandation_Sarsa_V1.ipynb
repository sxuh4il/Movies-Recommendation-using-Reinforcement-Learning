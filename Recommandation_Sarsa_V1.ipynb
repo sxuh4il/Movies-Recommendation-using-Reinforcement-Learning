{
 "cells": [
  {
   "cell_type": "markdown",
   "id": "b74f778b",
   "metadata": {},
   "source": [
    "## Système de Recommandation de Contenus avec SARSA"
   ]
  },
  {
   "cell_type": "markdown",
   "id": "d53b8de5",
   "metadata": {},
   "source": [
    "### 🧠 Objectif du projet :\n",
    "Construire un système de recommandation intelligent qui apprend à proposer les contenus les plus pertinents aux utilisateurs en analysant leurs interactions (clics, temps passé, etc.) sur une plateforme en ligne. Le système utilise l’algorithme SARSA (State-Action-Reward-State-Action) de Reinforcement Learning pour apprendre une politique de recommandation optimisée.\n",
    "\n"
   ]
  },
  {
   "cell_type": "markdown",
   "id": "f8b22c3a",
   "metadata": {},
   "source": [
    "#### Labraries"
   ]
  },
  {
   "cell_type": "code",
   "execution_count": 109,
   "id": "76bab252",
   "metadata": {},
   "outputs": [],
   "source": [
    "import numpy as np\n",
    "import pandas as pd\n",
    "import matplotlib.pyplot as plt\n",
    "import seaborn as sns\n",
    "from tqdm import tqdm\n"
   ]
  },
  {
   "cell_type": "markdown",
   "id": "530b88d0",
   "metadata": {},
   "source": [
    "#### Load data"
   ]
  },
  {
   "cell_type": "code",
   "execution_count": 110,
   "id": "2fa67138",
   "metadata": {},
   "outputs": [],
   "source": [
    "df = pd.read_csv(\"data/merged_movie_data.csv\",sep=';')"
   ]
  },
  {
   "cell_type": "code",
   "execution_count": 111,
   "id": "91103d78",
   "metadata": {},
   "outputs": [
    {
     "data": {
      "text/html": [
       "<div>\n",
       "<style scoped>\n",
       "    .dataframe tbody tr th:only-of-type {\n",
       "        vertical-align: middle;\n",
       "    }\n",
       "\n",
       "    .dataframe tbody tr th {\n",
       "        vertical-align: top;\n",
       "    }\n",
       "\n",
       "    .dataframe thead th {\n",
       "        text-align: right;\n",
       "    }\n",
       "</style>\n",
       "<table border=\"1\" class=\"dataframe\">\n",
       "  <thead>\n",
       "    <tr style=\"text-align: right;\">\n",
       "      <th></th>\n",
       "      <th>userId</th>\n",
       "      <th>movieId</th>\n",
       "      <th>rating</th>\n",
       "      <th>timestamp</th>\n",
       "      <th>title</th>\n",
       "      <th>genres</th>\n",
       "    </tr>\n",
       "  </thead>\n",
       "  <tbody>\n",
       "    <tr>\n",
       "      <th>27002</th>\n",
       "      <td>182</td>\n",
       "      <td>6645</td>\n",
       "      <td>4.5</td>\n",
       "      <td>1063274161</td>\n",
       "      <td>THX 1138 (1971)</td>\n",
       "      <td>Action|Adventure|Drama|Sci-Fi</td>\n",
       "    </tr>\n",
       "    <tr>\n",
       "      <th>67911</th>\n",
       "      <td>438</td>\n",
       "      <td>4446</td>\n",
       "      <td>3.5</td>\n",
       "      <td>1105654697</td>\n",
       "      <td>Final Fantasy: The Spirits Within (2001)</td>\n",
       "      <td>Adventure|Animation|Fantasy|Sci-Fi</td>\n",
       "    </tr>\n",
       "    <tr>\n",
       "      <th>72913</th>\n",
       "      <td>469</td>\n",
       "      <td>3832</td>\n",
       "      <td>4.0</td>\n",
       "      <td>965336407</td>\n",
       "      <td>Black Sabbath (Tre volti della paura, I) (1963)</td>\n",
       "      <td>Horror</td>\n",
       "    </tr>\n",
       "    <tr>\n",
       "      <th>70672</th>\n",
       "      <td>452</td>\n",
       "      <td>1036</td>\n",
       "      <td>4.0</td>\n",
       "      <td>1013394799</td>\n",
       "      <td>Die Hard (1988)</td>\n",
       "      <td>Action|Crime|Thriller</td>\n",
       "    </tr>\n",
       "    <tr>\n",
       "      <th>87296</th>\n",
       "      <td>562</td>\n",
       "      <td>70336</td>\n",
       "      <td>3.5</td>\n",
       "      <td>1368896353</td>\n",
       "      <td>G.I. Joe: The Rise of Cobra (2009)</td>\n",
       "      <td>Action|Adventure|Sci-Fi|Thriller</td>\n",
       "    </tr>\n",
       "    <tr>\n",
       "      <th>67622</th>\n",
       "      <td>438</td>\n",
       "      <td>318</td>\n",
       "      <td>5.0</td>\n",
       "      <td>1105649728</td>\n",
       "      <td>Shawshank Redemption, The (1994)</td>\n",
       "      <td>Crime|Drama</td>\n",
       "    </tr>\n",
       "    <tr>\n",
       "      <th>100732</th>\n",
       "      <td>610</td>\n",
       "      <td>119145</td>\n",
       "      <td>4.5</td>\n",
       "      <td>1493846044</td>\n",
       "      <td>Kingsman: The Secret Service (2015)</td>\n",
       "      <td>Action|Adventure|Comedy|Crime</td>\n",
       "    </tr>\n",
       "    <tr>\n",
       "      <th>69070</th>\n",
       "      <td>448</td>\n",
       "      <td>2641</td>\n",
       "      <td>3.0</td>\n",
       "      <td>1019125353</td>\n",
       "      <td>Superman II (1980)</td>\n",
       "      <td>Action|Sci-Fi</td>\n",
       "    </tr>\n",
       "    <tr>\n",
       "      <th>58593</th>\n",
       "      <td>382</td>\n",
       "      <td>858</td>\n",
       "      <td>5.0</td>\n",
       "      <td>1515160584</td>\n",
       "      <td>Godfather, The (1972)</td>\n",
       "      <td>Crime|Drama</td>\n",
       "    </tr>\n",
       "    <tr>\n",
       "      <th>20740</th>\n",
       "      <td>137</td>\n",
       "      <td>589</td>\n",
       "      <td>3.5</td>\n",
       "      <td>1204859360</td>\n",
       "      <td>Terminator 2: Judgment Day (1991)</td>\n",
       "      <td>Action|Sci-Fi</td>\n",
       "    </tr>\n",
       "  </tbody>\n",
       "</table>\n",
       "</div>"
      ],
      "text/plain": [
       "        userId  movieId  rating   timestamp  \\\n",
       "27002      182     6645     4.5  1063274161   \n",
       "67911      438     4446     3.5  1105654697   \n",
       "72913      469     3832     4.0   965336407   \n",
       "70672      452     1036     4.0  1013394799   \n",
       "87296      562    70336     3.5  1368896353   \n",
       "67622      438      318     5.0  1105649728   \n",
       "100732     610   119145     4.5  1493846044   \n",
       "69070      448     2641     3.0  1019125353   \n",
       "58593      382      858     5.0  1515160584   \n",
       "20740      137      589     3.5  1204859360   \n",
       "\n",
       "                                                  title  \\\n",
       "27002                                   THX 1138 (1971)   \n",
       "67911          Final Fantasy: The Spirits Within (2001)   \n",
       "72913   Black Sabbath (Tre volti della paura, I) (1963)   \n",
       "70672                                   Die Hard (1988)   \n",
       "87296                G.I. Joe: The Rise of Cobra (2009)   \n",
       "67622                  Shawshank Redemption, The (1994)   \n",
       "100732              Kingsman: The Secret Service (2015)   \n",
       "69070                                Superman II (1980)   \n",
       "58593                             Godfather, The (1972)   \n",
       "20740                 Terminator 2: Judgment Day (1991)   \n",
       "\n",
       "                                    genres  \n",
       "27002        Action|Adventure|Drama|Sci-Fi  \n",
       "67911   Adventure|Animation|Fantasy|Sci-Fi  \n",
       "72913                               Horror  \n",
       "70672                Action|Crime|Thriller  \n",
       "87296     Action|Adventure|Sci-Fi|Thriller  \n",
       "67622                          Crime|Drama  \n",
       "100732       Action|Adventure|Comedy|Crime  \n",
       "69070                        Action|Sci-Fi  \n",
       "58593                          Crime|Drama  \n",
       "20740                        Action|Sci-Fi  "
      ]
     },
     "execution_count": 111,
     "metadata": {},
     "output_type": "execute_result"
    }
   ],
   "source": [
    "df.sample(10)\n"
   ]
  },
  {
   "cell_type": "markdown",
   "id": "f75044f5",
   "metadata": {},
   "source": [
    "#### Filtrage des top utilisateurs et films"
   ]
  },
  {
   "cell_type": "markdown",
   "id": "7d4b9cd5",
   "metadata": {},
   "source": [
    "**=> Des milliers d’utilisateurs et de films.** \n",
    "\n",
    "**=> Beaucoup de données manquantes (certains utilisateurs notent très peu de films).**\n",
    "\n",
    "**=> Un grand déséquilibre (quelques films populaires sont notés très souvent, d’autres très rarement).**"
   ]
  },
  {
   "cell_type": "code",
   "execution_count": 112,
   "id": "9d8c7096",
   "metadata": {},
   "outputs": [],
   "source": [
    "top_users = df['userId'].value_counts().head(20).index.tolist()\n",
    "top_movies = df['movieId'].value_counts().head(50).index.tolist()\n",
    "df = df[df['userId'].isin(top_users) & df['movieId'].isin(top_movies)]"
   ]
  },
  {
   "cell_type": "markdown",
   "id": "79ad4f43",
   "metadata": {},
   "source": [
    "#### # Réindexation\n"
   ]
  },
  {
   "cell_type": "markdown",
   "id": "ff710241",
   "metadata": {},
   "source": [
    "**=> userId pour les lignes de Q-Table**\n",
    "\n",
    "**=> movieId pour les lignes de Q-Table**\n",
    "\n",
    "**=> idx_to_movie lorsqu'on extrait argmax(Q[\"state\"]) pour traduire l’index en vrai movieId**"
   ]
  },
  {
   "cell_type": "code",
   "execution_count": 113,
   "id": "b292d5fe",
   "metadata": {},
   "outputs": [],
   "source": [
    "user_to_idx = {uid: idx for idx, uid in enumerate(sorted(df['userId'].unique()))}\n",
    "movie_to_idx = {mid: idx for idx, mid in enumerate(sorted(df['movieId'].unique()))}\n",
    "idx_to_movie = {idx: mid for mid, idx in movie_to_idx.items()}\n",
    "idx_to_title = dict(zip(df['movieId'], df['title']))\n",
    "movie_genres = dict(zip(df['movieId'], df['genres']))"
   ]
  },
  {
   "cell_type": "code",
   "execution_count": 114,
   "id": "2f1dbbfb",
   "metadata": {},
   "outputs": [],
   "source": [
    "n_users = len(user_to_idx)\n",
    "n_movies = len(movie_to_idx)"
   ]
  },
  {
   "cell_type": "markdown",
   "id": "ef5e8c10",
   "metadata": {},
   "source": [
    "#### Extraction de tous les genres possibles\n"
   ]
  },
  {
   "cell_type": "code",
   "execution_count": 115,
   "id": "e88a400a",
   "metadata": {},
   "outputs": [],
   "source": [
    "genre_set = set()\n",
    "for g in df['genres']:\n",
    "    genre_set.update(g.split('|'))\n",
    "all_genres = sorted(genre_set)\n",
    "genre_to_idx = {g: i for i, g in enumerate(all_genres)}"
   ]
  },
  {
   "cell_type": "markdown",
   "id": "5d199320",
   "metadata": {},
   "source": [
    "#### Encodage des genres pour chaque film\n"
   ]
  },
  {
   "cell_type": "code",
   "execution_count": 116,
   "id": "59528d69",
   "metadata": {},
   "outputs": [],
   "source": [
    "def encoder_genres(genre_str):\n",
    "    vector = np.zeros(len(all_genres))\n",
    "    for g in genre_str.split('|'):\n",
    "        if g in genre_to_idx:\n",
    "            vector[genre_to_idx[g]] = 1\n",
    "    return vector"
   ]
  },
  {
   "cell_type": "code",
   "execution_count": 117,
   "id": "30e66420",
   "metadata": {},
   "outputs": [],
   "source": [
    "movie_genre_vectors = {mid: encoder_genres(genre_str) for mid, genre_str in movie_genres.items()}\n"
   ]
  },
  {
   "cell_type": "markdown",
   "id": "97d48362",
   "metadata": {},
   "source": [
    "#### Q-table\n"
   ]
  },
  {
   "cell_type": "code",
   "execution_count": 118,
   "id": "bb9c80db",
   "metadata": {},
   "outputs": [],
   "source": [
    "q_table = np.zeros((n_users, n_movies))\n",
    "\n",
    "# Hyperparamètres\n",
    "alpha,gamma,epsilon,episodes ,max_steps,coeff_genre = 0.1, 0.9, 0.1,500, 10, 0.5\n"
   ]
  },
  {
   "cell_type": "markdown",
   "id": "64eacf59",
   "metadata": {},
   "source": [
    "#### Politique ε-greedy\n"
   ]
  },
  {
   "cell_type": "code",
   "execution_count": 119,
   "id": "3691effe",
   "metadata": {},
   "outputs": [],
   "source": [
    "def choisir_action(user_idx):\n",
    "    if np.random.rand() < epsilon:\n",
    "        return np.random.randint(n_movies)\n",
    "    else:    \n",
    "        return np.argmax(q_table[user_idx])"
   ]
  },
  {
   "cell_type": "markdown",
   "id": "f2cd5fa6",
   "metadata": {},
   "source": [
    "#### Obtenir les genres préférés d’un utilisateur\n"
   ]
  },
  {
   "cell_type": "code",
   "execution_count": 120,
   "id": "0cb85f41",
   "metadata": {},
   "outputs": [],
   "source": [
    "def genres_utilisateur(user_id):\n",
    "    liked = df[(df['userId'] == user_id) & (df['rating'] >= 3.0)]\n",
    "    if liked.empty:\n",
    "        return np.zeros(len(all_genres))\n",
    "    vectors = np.array([movie_genre_vectors[mid] for mid in liked['movieId'] if mid in movie_genre_vectors])\n",
    "    return vectors.mean(axis=0)"
   ]
  },
  {
   "cell_type": "markdown",
   "id": "c37b3dc9",
   "metadata": {},
   "source": [
    "#### Récompense avec affinité de genre\n"
   ]
  },
  {
   "cell_type": "code",
   "execution_count": 121,
   "id": "659720bd",
   "metadata": {},
   "outputs": [],
   "source": [
    "def obtenir_recompense(user_idx, movie_idx):\n",
    "    user_id = list(user_to_idx.keys())[user_idx]\n",
    "    movie_id = list(movie_to_idx.keys())[movie_idx]\n",
    "\n",
    "    note_row = df[(df['userId'] == user_id) & (df['movieId'] == movie_id)]\n",
    "    note_reward = 1 if not note_row.empty and note_row['rating'].values[0] >= 3.0 else 0\n",
    "\n",
    "    user_pref = genres_utilisateur(user_id)\n",
    "    movie_vec = movie_genre_vectors.get(movie_id, np.zeros(len(all_genres)))\n",
    "    genre_similarity = np.dot(user_pref, movie_vec) / (np.linalg.norm(user_pref) + 1e-5)\n",
    "\n",
    "    return note_reward + coeff_genre * genre_similarity"
   ]
  },
  {
   "cell_type": "markdown",
   "id": "a8ded784",
   "metadata": {},
   "source": [
    "#### Entraînement SARSA\n"
   ]
  },
  {
   "cell_type": "code",
   "execution_count": 132,
   "id": "d86c159f",
   "metadata": {},
   "outputs": [
    {
     "name": "stderr",
     "output_type": "stream",
     "text": [
      "Episodes:   0%|          | 0/500 [00:00<?, ?it/s]"
     ]
    },
    {
     "name": "stderr",
     "output_type": "stream",
     "text": [
      "Episodes: 100%|██████████| 500/500 [00:14<00:00, 34.75it/s]\n"
     ]
    }
   ],
   "source": [
    "clics_par_episode = []\n",
    "\n",
    "for ep in tqdm(range(episodes), desc=\"Episodes\"):\n",
    "    user_idx = np.random.randint(n_users)\n",
    "    action = choisir_action(user_idx)\n",
    "    total_reward = 0\n",
    "\n",
    "    for _ in range(max_steps):\n",
    "        r = obtenir_recompense(user_idx, action)\n",
    "        total_reward += r\n",
    "\n",
    "        next_user_idx = np.random.randint(n_users)\n",
    "        next_action = choisir_action(next_user_idx)\n",
    "\n",
    "        cible = r + gamma * q_table[next_user_idx][next_action]\n",
    "        q_table[user_idx][action] += alpha * (cible - q_table[user_idx][action])\n",
    "\n",
    "        user_idx = next_user_idx\n",
    "        action = next_action\n",
    "\n",
    "    clics_par_episode.append(total_reward)\n",
    "\n"
   ]
  },
  {
   "cell_type": "code",
   "execution_count": 133,
   "id": "0509eacd",
   "metadata": {},
   "outputs": [
    {
     "data": {
      "image/png": "[encoded data removed]",
      "text/plain": [
       "<Figure size 640x480 with 1 Axes>"
      ]
     },
     "metadata": {},
     "output_type": "display_data"
    }
   ],
   "source": [
    "plt.plot(clics_par_episode)\n",
    "plt.title(\"Évolution des clics par épisode (SARSA)\")\n",
    "plt.xlabel(\"Épisode\")\n",
    "plt.ylabel(\"Nombre de clics\")\n",
    "plt.grid()\n",
    "plt.show()"
   ]
  },
  {
   "cell_type": "code",
   "execution_count": 134,
   "id": "3998cf98",
   "metadata": {},
   "outputs": [
    {
     "name": "stdout",
     "output_type": "stream",
     "text": [
      "\n",
      "🎯 Recommandation personnalisée pour chaque utilisateur :\n",
      "Utilisateur 68 → 🎥 Pirates of the Caribbean: The Curse of the Black Pearl (2003)\n",
      "Utilisateur 177 → 🎥 Ace Ventura: Pet Detective (1994)\n",
      "Utilisateur 182 → 🎥 Pulp Fiction (1994)\n",
      "Utilisateur 232 → 🎥 Gladiator (2000)\n",
      "Utilisateur 249 → 🎥 Lion King, The (1994)\n",
      "Utilisateur 274 → 🎥 American Beauty (1999)\n",
      "Utilisateur 288 → 🎥 Raiders of the Lost Ark (Indiana Jones and the Raiders of the Lost Ark) (1981)\n",
      "Utilisateur 298 → 🎥 Star Wars: Episode V - The Empire Strikes Back (1980)\n",
      "Utilisateur 307 → 🎥 Shawshank Redemption, The (1994)\n",
      "Utilisateur 318 → 🎥 Shawshank Redemption, The (1994)\n",
      "Utilisateur 380 → 🎥 True Lies (1994)\n",
      "Utilisateur 387 → 🎥 Godfather, The (1972)\n",
      "Utilisateur 414 → 🎥 Terminator 2: Judgment Day (1991)\n",
      "Utilisateur 448 → 🎥 Mrs. Doubtfire (1993)\n",
      "Utilisateur 474 → 🎥 Lord of the Rings: The Two Towers, The (2002)\n",
      "Utilisateur 480 → 🎥 Matrix, The (1999)\n",
      "Utilisateur 599 → 🎥 Godfather, The (1972)\n",
      "Utilisateur 603 → 🎥 Toy Story (1995)\n",
      "Utilisateur 606 → 🎥 Matrix, The (1999)\n",
      "Utilisateur 610 → 🎥 Sixth Sense, The (1999)\n"
     ]
    }
   ],
   "source": [
    "print(\"\\n🎯 Recommandation personnalisée pour chaque utilisateur :\")\n",
    "for user_id, user_idx in user_to_idx.items():\n",
    "    best_movie_idx = np.argmax(q_table[user_idx])\n",
    "    best_movie_id = idx_to_movie[best_movie_idx]\n",
    "    titre = idx_to_title.get(best_movie_id, \"Inconnu\")\n",
    "    print(f\"Utilisateur {user_id} → 🎥 {titre}\")"
   ]
  },
  {
   "cell_type": "code",
   "execution_count": 135,
   "id": "74f1e115",
   "metadata": {},
   "outputs": [],
   "source": [
    "# Générer les recommandations\n",
    "recommandations = []\n",
    "\n",
    "for user_id in user_to_idx:\n",
    "    user_idx = user_to_idx[user_id]\n",
    "    vus = set(df[df['userId'] == user_id]['movieId'])\n",
    "\n",
    "    # Genres aimés (note >= 3.0)\n",
    "    genres_aimes = []\n",
    "    for _, row in df[(df['userId'] == user_id) & (df['rating'] >= 3.0)].iterrows():\n",
    "        genres = movie_genres.get(row['movieId'], \"\")\n",
    "        genres_aimes.extend(genres.split('|'))\n",
    "    genres_aimes = set(genres_aimes)\n",
    "\n",
    "    candidats = []\n",
    "    for movie_idx in range(n_movies):\n",
    "        movie_id = idx_to_movie[movie_idx]\n",
    "        if movie_id in vus:\n",
    "            continue\n",
    "        genres_film = set(movie_genres.get(movie_id, \"\").split('|'))\n",
    "        if not genres_aimes & genres_film:\n",
    "            continue\n",
    "        score = q_table[user_idx, movie_idx]\n",
    "        candidats.append((movie_id, idx_to_title.get(movie_id, \"Titre inconnu\"), score))\n",
    "\n",
    "    top_recos = sorted(candidats, key=lambda x: x[2], reverse=True)[:5]\n",
    "\n",
    "    for reco in top_recos:\n",
    "        recommandations.append({\n",
    "            'userId': user_id,\n",
    "            'movieId': reco[0],\n",
    "            'title': reco[1],\n",
    "            'score_Q': round(reco[2], 3)\n",
    "        })"
   ]
  },
  {
   "cell_type": "code",
   "execution_count": 136,
   "id": "0db810c3",
   "metadata": {},
   "outputs": [
    {
     "name": "stdout",
     "output_type": "stream",
     "text": [
      "✅ Recommandations générées dans recommandations_sarsa.csv\n"
     ]
    }
   ],
   "source": [
    "# Exporter les recommandations\n",
    "df_reco = pd.DataFrame(recommandations)\n",
    "df_reco.to_csv(\"recommandations_sarsa.csv\", index=False)\n",
    "\n",
    "print(\"✅ Recommandations générées dans recommandations_sarsa.csv\")"
   ]
  },
  {
   "cell_type": "code",
   "execution_count": 137,
   "id": "67262a26",
   "metadata": {},
   "outputs": [],
   "source": [
    "df_reco1 = pd.read_csv(\"recommandations_sarsa.csv\")"
   ]
  },
  {
   "cell_type": "code",
   "execution_count": 139,
   "id": "a3108acd",
   "metadata": {},
   "outputs": [
    {
     "data": {
      "text/html": [
       "<div>\n",
       "<style scoped>\n",
       "    .dataframe tbody tr th:only-of-type {\n",
       "        vertical-align: middle;\n",
       "    }\n",
       "\n",
       "    .dataframe tbody tr th {\n",
       "        vertical-align: top;\n",
       "    }\n",
       "\n",
       "    .dataframe thead th {\n",
       "        text-align: right;\n",
       "    }\n",
       "</style>\n",
       "<table border=\"1\" class=\"dataframe\">\n",
       "  <thead>\n",
       "    <tr style=\"text-align: right;\">\n",
       "      <th></th>\n",
       "      <th>userId</th>\n",
       "      <th>movieId</th>\n",
       "      <th>title</th>\n",
       "      <th>score_Q</th>\n",
       "    </tr>\n",
       "  </thead>\n",
       "  <tbody>\n",
       "    <tr>\n",
       "      <th>44</th>\n",
       "      <td>387</td>\n",
       "      <td>165</td>\n",
       "      <td>Die Hard: With a Vengeance (1995)</td>\n",
       "      <td>0.000</td>\n",
       "    </tr>\n",
       "    <tr>\n",
       "      <th>24</th>\n",
       "      <td>298</td>\n",
       "      <td>150</td>\n",
       "      <td>Apollo 13 (1995)</td>\n",
       "      <td>1.789</td>\n",
       "    </tr>\n",
       "    <tr>\n",
       "      <th>23</th>\n",
       "      <td>288</td>\n",
       "      <td>2858</td>\n",
       "      <td>American Beauty (1999)</td>\n",
       "      <td>0.000</td>\n",
       "    </tr>\n",
       "    <tr>\n",
       "      <th>19</th>\n",
       "      <td>274</td>\n",
       "      <td>150</td>\n",
       "      <td>Apollo 13 (1995)</td>\n",
       "      <td>0.960</td>\n",
       "    </tr>\n",
       "    <tr>\n",
       "      <th>47</th>\n",
       "      <td>448</td>\n",
       "      <td>318</td>\n",
       "      <td>Shawshank Redemption, The (1994)</td>\n",
       "      <td>0.000</td>\n",
       "    </tr>\n",
       "    <tr>\n",
       "      <th>37</th>\n",
       "      <td>380</td>\n",
       "      <td>590</td>\n",
       "      <td>Dances with Wolves (1990)</td>\n",
       "      <td>1.784</td>\n",
       "    </tr>\n",
       "    <tr>\n",
       "      <th>9</th>\n",
       "      <td>182</td>\n",
       "      <td>500</td>\n",
       "      <td>Mrs. Doubtfire (1993)</td>\n",
       "      <td>0.000</td>\n",
       "    </tr>\n",
       "    <tr>\n",
       "      <th>48</th>\n",
       "      <td>448</td>\n",
       "      <td>364</td>\n",
       "      <td>Lion King, The (1994)</td>\n",
       "      <td>0.000</td>\n",
       "    </tr>\n",
       "    <tr>\n",
       "      <th>1</th>\n",
       "      <td>177</td>\n",
       "      <td>590</td>\n",
       "      <td>Dances with Wolves (1990)</td>\n",
       "      <td>1.826</td>\n",
       "    </tr>\n",
       "    <tr>\n",
       "      <th>34</th>\n",
       "      <td>318</td>\n",
       "      <td>367</td>\n",
       "      <td>Mask, The (1994)</td>\n",
       "      <td>1.008</td>\n",
       "    </tr>\n",
       "    <tr>\n",
       "      <th>4</th>\n",
       "      <td>177</td>\n",
       "      <td>589</td>\n",
       "      <td>Terminator 2: Judgment Day (1991)</td>\n",
       "      <td>0.903</td>\n",
       "    </tr>\n",
       "    <tr>\n",
       "      <th>13</th>\n",
       "      <td>232</td>\n",
       "      <td>457</td>\n",
       "      <td>Fugitive, The (1993)</td>\n",
       "      <td>0.899</td>\n",
       "    </tr>\n",
       "    <tr>\n",
       "      <th>17</th>\n",
       "      <td>249</td>\n",
       "      <td>590</td>\n",
       "      <td>Dances with Wolves (1990)</td>\n",
       "      <td>0.000</td>\n",
       "    </tr>\n",
       "    <tr>\n",
       "      <th>3</th>\n",
       "      <td>177</td>\n",
       "      <td>165</td>\n",
       "      <td>Die Hard: With a Vengeance (1995)</td>\n",
       "      <td>0.956</td>\n",
       "    </tr>\n",
       "    <tr>\n",
       "      <th>49</th>\n",
       "      <td>448</td>\n",
       "      <td>588</td>\n",
       "      <td>Aladdin (1992)</td>\n",
       "      <td>0.000</td>\n",
       "    </tr>\n",
       "    <tr>\n",
       "      <th>10</th>\n",
       "      <td>182</td>\n",
       "      <td>588</td>\n",
       "      <td>Aladdin (1992)</td>\n",
       "      <td>0.000</td>\n",
       "    </tr>\n",
       "    <tr>\n",
       "      <th>38</th>\n",
       "      <td>380</td>\n",
       "      <td>2858</td>\n",
       "      <td>American Beauty (1999)</td>\n",
       "      <td>0.991</td>\n",
       "    </tr>\n",
       "    <tr>\n",
       "      <th>26</th>\n",
       "      <td>298</td>\n",
       "      <td>380</td>\n",
       "      <td>True Lies (1994)</td>\n",
       "      <td>1.011</td>\n",
       "    </tr>\n",
       "    <tr>\n",
       "      <th>69</th>\n",
       "      <td>610</td>\n",
       "      <td>364</td>\n",
       "      <td>Lion King, The (1994)</td>\n",
       "      <td>0.789</td>\n",
       "    </tr>\n",
       "    <tr>\n",
       "      <th>25</th>\n",
       "      <td>298</td>\n",
       "      <td>457</td>\n",
       "      <td>Fugitive, The (1993)</td>\n",
       "      <td>1.762</td>\n",
       "    </tr>\n",
       "  </tbody>\n",
       "</table>\n",
       "</div>"
      ],
      "text/plain": [
       "    userId  movieId                              title  score_Q\n",
       "44     387      165  Die Hard: With a Vengeance (1995)    0.000\n",
       "24     298      150                   Apollo 13 (1995)    1.789\n",
       "23     288     2858             American Beauty (1999)    0.000\n",
       "19     274      150                   Apollo 13 (1995)    0.960\n",
       "47     448      318   Shawshank Redemption, The (1994)    0.000\n",
       "37     380      590          Dances with Wolves (1990)    1.784\n",
       "9      182      500              Mrs. Doubtfire (1993)    0.000\n",
       "48     448      364              Lion King, The (1994)    0.000\n",
       "1      177      590          Dances with Wolves (1990)    1.826\n",
       "34     318      367                   Mask, The (1994)    1.008\n",
       "4      177      589  Terminator 2: Judgment Day (1991)    0.903\n",
       "13     232      457               Fugitive, The (1993)    0.899\n",
       "17     249      590          Dances with Wolves (1990)    0.000\n",
       "3      177      165  Die Hard: With a Vengeance (1995)    0.956\n",
       "49     448      588                     Aladdin (1992)    0.000\n",
       "10     182      588                     Aladdin (1992)    0.000\n",
       "38     380     2858             American Beauty (1999)    0.991\n",
       "26     298      380                   True Lies (1994)    1.011\n",
       "69     610      364              Lion King, The (1994)    0.789\n",
       "25     298      457               Fugitive, The (1993)    1.762"
      ]
     },
     "execution_count": 139,
     "metadata": {},
     "output_type": "execute_result"
    }
   ],
   "source": [
    "df_reco1.sample(20)"
   ]
  },
  {
   "cell_type": "code",
   "execution_count": null,
   "id": "2e16bbca",
   "metadata": {},
   "outputs": [],
   "source": []
  }
 ],
 "metadata": {
  "kernelspec": {
   "display_name": "Python 3",
   "language": "python",
   "name": "python3"
  },
  "language_info": {
   "codemirror_mode": {
    "name": "ipython",
    "version": 3
   },
   "file_extension": ".py",
   "mimetype": "text/x-python",
   "name": "python",
   "nbconvert_exporter": "python",
   "pygments_lexer": "ipython3",
   "version": "3.12.2"
  }
 },
 "nbformat": 4,
 "nbformat_minor": 5
}
