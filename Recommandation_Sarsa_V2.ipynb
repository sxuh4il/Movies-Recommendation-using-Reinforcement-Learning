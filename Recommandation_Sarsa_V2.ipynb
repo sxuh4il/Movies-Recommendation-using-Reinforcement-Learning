{
 "cells": [
  {
   "cell_type": "markdown",
   "id": "b74f778b",
   "metadata": {},
   "source": [
    "## Système de Recommandation de Contenus avec SARSA"
   ]
  },
  {
   "cell_type": "markdown",
   "id": "d53b8de5",
   "metadata": {},
   "source": [
    "### 🧠 Objectif du projet :\n",
    "Construire un système de recommandation intelligent qui apprend à proposer les contenus les plus pertinents aux utilisateurs en analysant leurs interactions (clics, temps passé, etc.) sur une plateforme en ligne. Le système utilise l’algorithme SARSA (State-Action-Reward-State-Action) de Reinforcement Learning pour apprendre une politique de recommandation optimisée.\n",
    "\n"
   ]
  },
  {
   "cell_type": "markdown",
   "id": "f8b22c3a",
   "metadata": {},
   "source": [
    "#### Labraries"
   ]
  },
  {
   "cell_type": "code",
   "execution_count": 2,
   "id": "76bab252",
   "metadata": {},
   "outputs": [],
   "source": [
    "import numpy as np\n",
    "import pandas as pd\n",
    "import matplotlib.pyplot as plt\n",
    "import seaborn as sns\n",
    "from tqdm import tqdm\n"
   ]
  },
  {
   "cell_type": "markdown",
   "id": "530b88d0",
   "metadata": {},
   "source": [
    "#### Load data"
   ]
  },
  {
   "cell_type": "code",
   "execution_count": 3,
   "id": "2fa67138",
   "metadata": {},
   "outputs": [],
   "source": [
    "df = pd.read_csv(\"data/merged_movie_data.csv\",sep=';')"
   ]
  },
  {
   "cell_type": "code",
   "execution_count": 4,
   "id": "91103d78",
   "metadata": {},
   "outputs": [
    {
     "data": {
      "text/html": [
       "<div>\n",
       "<style scoped>\n",
       "    .dataframe tbody tr th:only-of-type {\n",
       "        vertical-align: middle;\n",
       "    }\n",
       "\n",
       "    .dataframe tbody tr th {\n",
       "        vertical-align: top;\n",
       "    }\n",
       "\n",
       "    .dataframe thead th {\n",
       "        text-align: right;\n",
       "    }\n",
       "</style>\n",
       "<table border=\"1\" class=\"dataframe\">\n",
       "  <thead>\n",
       "    <tr style=\"text-align: right;\">\n",
       "      <th></th>\n",
       "      <th>userId</th>\n",
       "      <th>movieId</th>\n",
       "      <th>rating</th>\n",
       "      <th>timestamp</th>\n",
       "      <th>title</th>\n",
       "      <th>genres</th>\n",
       "    </tr>\n",
       "  </thead>\n",
       "  <tbody>\n",
       "    <tr>\n",
       "      <th>3459</th>\n",
       "      <td>21</td>\n",
       "      <td>58998</td>\n",
       "      <td>4.5</td>\n",
       "      <td>1441393230</td>\n",
       "      <td>Forgetting Sarah Marshall (2008)</td>\n",
       "      <td>Comedy|Romance</td>\n",
       "    </tr>\n",
       "    <tr>\n",
       "      <th>61442</th>\n",
       "      <td>405</td>\n",
       "      <td>1214</td>\n",
       "      <td>4.0</td>\n",
       "      <td>1300134613</td>\n",
       "      <td>Alien (1979)</td>\n",
       "      <td>Horror|Sci-Fi</td>\n",
       "    </tr>\n",
       "    <tr>\n",
       "      <th>28742</th>\n",
       "      <td>199</td>\n",
       "      <td>2112</td>\n",
       "      <td>2.0</td>\n",
       "      <td>940372513</td>\n",
       "      <td>Grand Canyon (1991)</td>\n",
       "      <td>Crime|Drama</td>\n",
       "    </tr>\n",
       "    <tr>\n",
       "      <th>17701</th>\n",
       "      <td>111</td>\n",
       "      <td>93270</td>\n",
       "      <td>1.5</td>\n",
       "      <td>1516152647</td>\n",
       "      <td>Project X (2012)</td>\n",
       "      <td>Comedy</td>\n",
       "    </tr>\n",
       "    <tr>\n",
       "      <th>84703</th>\n",
       "      <td>546</td>\n",
       "      <td>3939</td>\n",
       "      <td>5.0</td>\n",
       "      <td>973588747</td>\n",
       "      <td>Slumber Party Massacre II (1987)</td>\n",
       "      <td>Horror</td>\n",
       "    </tr>\n",
       "    <tr>\n",
       "      <th>90420</th>\n",
       "      <td>587</td>\n",
       "      <td>3471</td>\n",
       "      <td>4.0</td>\n",
       "      <td>953137197</td>\n",
       "      <td>Close Encounters of the Third Kind (1977)</td>\n",
       "      <td>Adventure|Drama|Sci-Fi</td>\n",
       "    </tr>\n",
       "    <tr>\n",
       "      <th>13095</th>\n",
       "      <td>84</td>\n",
       "      <td>94</td>\n",
       "      <td>4.0</td>\n",
       "      <td>857653422</td>\n",
       "      <td>Beautiful Girls (1996)</td>\n",
       "      <td>Comedy|Drama|Romance</td>\n",
       "    </tr>\n",
       "    <tr>\n",
       "      <th>62925</th>\n",
       "      <td>414</td>\n",
       "      <td>1863</td>\n",
       "      <td>2.0</td>\n",
       "      <td>961437759</td>\n",
       "      <td>Major League: Back to the Minors (1998)</td>\n",
       "      <td>Comedy</td>\n",
       "    </tr>\n",
       "    <tr>\n",
       "      <th>49476</th>\n",
       "      <td>318</td>\n",
       "      <td>55247</td>\n",
       "      <td>4.5</td>\n",
       "      <td>1424546853</td>\n",
       "      <td>Into the Wild (2007)</td>\n",
       "      <td>Action|Adventure|Drama</td>\n",
       "    </tr>\n",
       "    <tr>\n",
       "      <th>58735</th>\n",
       "      <td>382</td>\n",
       "      <td>45720</td>\n",
       "      <td>4.5</td>\n",
       "      <td>1515160931</td>\n",
       "      <td>Devil Wears Prada, The (2006)</td>\n",
       "      <td>Comedy|Drama</td>\n",
       "    </tr>\n",
       "  </tbody>\n",
       "</table>\n",
       "</div>"
      ],
      "text/plain": [
       "       userId  movieId  rating   timestamp  \\\n",
       "3459       21    58998     4.5  1441393230   \n",
       "61442     405     1214     4.0  1300134613   \n",
       "28742     199     2112     2.0   940372513   \n",
       "17701     111    93270     1.5  1516152647   \n",
       "84703     546     3939     5.0   973588747   \n",
       "90420     587     3471     4.0   953137197   \n",
       "13095      84       94     4.0   857653422   \n",
       "62925     414     1863     2.0   961437759   \n",
       "49476     318    55247     4.5  1424546853   \n",
       "58735     382    45720     4.5  1515160931   \n",
       "\n",
       "                                           title                  genres  \n",
       "3459            Forgetting Sarah Marshall (2008)          Comedy|Romance  \n",
       "61442                               Alien (1979)           Horror|Sci-Fi  \n",
       "28742                        Grand Canyon (1991)             Crime|Drama  \n",
       "17701                           Project X (2012)                  Comedy  \n",
       "84703           Slumber Party Massacre II (1987)                  Horror  \n",
       "90420  Close Encounters of the Third Kind (1977)  Adventure|Drama|Sci-Fi  \n",
       "13095                     Beautiful Girls (1996)    Comedy|Drama|Romance  \n",
       "62925    Major League: Back to the Minors (1998)                  Comedy  \n",
       "49476                       Into the Wild (2007)  Action|Adventure|Drama  \n",
       "58735              Devil Wears Prada, The (2006)            Comedy|Drama  "
      ]
     },
     "execution_count": 4,
     "metadata": {},
     "output_type": "execute_result"
    }
   ],
   "source": [
    "df.sample(10)\n"
   ]
  },
  {
   "cell_type": "markdown",
   "id": "79ad4f43",
   "metadata": {},
   "source": [
    "#### Réindexation\n"
   ]
  },
  {
   "cell_type": "markdown",
   "id": "ff710241",
   "metadata": {},
   "source": [
    "**=> userId pour les lignes de Q-Table**\n",
    "\n",
    "**=> movieId pour les lignes de Q-Table**\n",
    "\n",
    "**=> idx_to_movie lorsqu'on extrait argmax(Q[\"state\"]) pour traduire l’index en vrai movieId**"
   ]
  },
  {
   "cell_type": "code",
   "execution_count": 5,
   "id": "b292d5fe",
   "metadata": {},
   "outputs": [],
   "source": [
    "user_to_idx = {uid: idx for idx, uid in enumerate(sorted(df['userId'].unique()))}\n",
    "movie_to_idx = {mid: idx for idx, mid in enumerate(sorted(df['movieId'].unique()))}\n",
    "idx_to_movie = {idx: mid for mid, idx in movie_to_idx.items()}\n",
    "idx_to_title = dict(zip(df['movieId'], df['title']))\n",
    "movie_genres = dict(zip(df['movieId'], df['genres']))"
   ]
  },
  {
   "cell_type": "code",
   "execution_count": 6,
   "id": "2f1dbbfb",
   "metadata": {},
   "outputs": [],
   "source": [
    "n_users = len(user_to_idx)\n",
    "n_movies = len(movie_to_idx)"
   ]
  },
  {
   "cell_type": "markdown",
   "id": "ef5e8c10",
   "metadata": {},
   "source": [
    "#### Extraction de tous les genres possibles\n"
   ]
  },
  {
   "cell_type": "code",
   "execution_count": 8,
   "id": "e88a400a",
   "metadata": {},
   "outputs": [],
   "source": [
    "genre_set = set()\n",
    "for g in df['genres']:\n",
    "    if isinstance(g, str):\n",
    "        genre_set.update(g.split('|'))\n",
    "all_genres = sorted(genre_set)\n",
    "genre_to_idx = {g: i for i, g in enumerate(all_genres)}"
   ]
  },
  {
   "cell_type": "markdown",
   "id": "5d199320",
   "metadata": {},
   "source": [
    "#### Encodage des genres pour chaque film\n"
   ]
  },
  {
   "cell_type": "code",
   "execution_count": 9,
   "id": "59528d69",
   "metadata": {},
   "outputs": [],
   "source": [
    "def encoder_genres(genre_str):\n",
    "    vector = np.zeros(len(all_genres))\n",
    "    for g in genre_str.split('|'):\n",
    "        if g in genre_to_idx:\n",
    "            vector[genre_to_idx[g]] = 1\n",
    "    return vector"
   ]
  },
  {
   "cell_type": "code",
   "execution_count": 10,
   "id": "30e66420",
   "metadata": {},
   "outputs": [],
   "source": [
    "movie_genre_vectors = {mid: encoder_genres(genre_str) if isinstance(genre_str, str) else np.zeros(len(all_genres)) for mid, genre_str in movie_genres.items()}\n"
   ]
  },
  {
   "cell_type": "markdown",
   "id": "97d48362",
   "metadata": {},
   "source": [
    "#### Q-table\n"
   ]
  },
  {
   "cell_type": "code",
   "execution_count": 11,
   "id": "bb9c80db",
   "metadata": {},
   "outputs": [],
   "source": [
    "q_table = np.zeros((n_users, n_movies))\n",
    "\n",
    "# Hyperparamètres\n",
    "alpha,gamma,epsilon,episodes ,max_steps,coeff_genre = 0.1, 0.9, 0.1,500, 10, 0.5\n"
   ]
  },
  {
   "cell_type": "markdown",
   "id": "64eacf59",
   "metadata": {},
   "source": [
    "#### Politique ε-greedy\n"
   ]
  },
  {
   "cell_type": "code",
   "execution_count": 12,
   "id": "3691effe",
   "metadata": {},
   "outputs": [],
   "source": [
    "def choisir_action(user_idx, seen_idxs):\n",
    "    # Exploration ou exploitation\n",
    "    unseen = [i for i in range(n_movies) if i not in seen_idxs]\n",
    "    if not unseen:\n",
    "        return np.random.randint(n_movies)\n",
    "    if np.random.rand() < epsilon:\n",
    "        return np.random.choice(unseen)\n",
    "    q_vals = q_table[user_idx].copy()\n",
    "    q_vals[seen_idxs] = -np.inf  # empêche de choisir un film déjà vu\n",
    "    return np.argmax(q_vals)"
   ]
  },
  {
   "cell_type": "markdown",
   "id": "f2cd5fa6",
   "metadata": {},
   "source": [
    "#### Obtenir les genres préférés d’un utilisateur\n"
   ]
  },
  {
   "cell_type": "code",
   "execution_count": 13,
   "id": "0cb85f41",
   "metadata": {},
   "outputs": [],
   "source": [
    "def genres_utilisateur(user_id):\n",
    "    liked = df[(df['userId'] == user_id) & (df['rating'] >= 3.0)]\n",
    "    if liked.empty:\n",
    "        return np.zeros(len(all_genres))\n",
    "    vectors = np.array([movie_genre_vectors[mid] for mid in liked['movieId'] if mid in movie_genre_vectors])\n",
    "    return vectors.mean(axis=0)"
   ]
  },
  {
   "cell_type": "markdown",
   "id": "c37b3dc9",
   "metadata": {},
   "source": [
    "#### Récompense avec affinité de genre\n"
   ]
  },
  {
   "cell_type": "code",
   "execution_count": 14,
   "id": "659720bd",
   "metadata": {},
   "outputs": [],
   "source": [
    "def obtenir_recompense(user_idx, movie_idx):\n",
    "    user_id = list(user_to_idx.keys())[user_idx]\n",
    "    movie_id = list(movie_to_idx.keys())[movie_idx]\n",
    "\n",
    "    note_row = df[(df['userId'] == user_id) & (df['movieId'] == movie_id)]\n",
    "    note_reward = 1 if not note_row.empty and note_row['rating'].values[0] >= 3.0 else 0\n",
    "\n",
    "    user_pref = genres_utilisateur(user_id)\n",
    "    movie_vec = movie_genre_vectors.get(movie_id, np.zeros(len(all_genres)))\n",
    "    genre_similarity = np.dot(user_pref, movie_vec) / (np.linalg.norm(user_pref) + 1e-5)\n",
    "\n",
    "    return note_reward + coeff_genre * genre_similarity"
   ]
  },
  {
   "cell_type": "markdown",
   "id": "a8ded784",
   "metadata": {},
   "source": [
    "#### Entraînement SARSA\n"
   ]
  },
  {
   "cell_type": "code",
   "execution_count": null,
   "id": "b0bb0edc",
   "metadata": {},
   "outputs": [],
   "source": [
    "# --- Entraînement SARSA ---\n",
    "clics_par_episode = []\n",
    "\n",
    "for ep in tqdm(range(episodes), desc=\"Entraînement SARSA\"):\n",
    "    total_clicks = 0\n",
    "    for user_id in user_to_idx:\n",
    "        user_idx = user_to_idx[user_id]\n",
    "        seen_ids = df[df['userId'] == user_id]['movieId'].map(movie_to_idx).dropna().astype(int).tolist()\n",
    "\n",
    "        if len(seen_ids) >= n_movies:\n",
    "            continue  # tous les films déjà vus\n",
    "\n",
    "        state = user_idx\n",
    "        action = choisir_action(state, seen_ids)\n",
    "\n",
    "        reward = obtenir_recompense(state, action)\n",
    "        next_action = choisir_action(state, seen_ids + [action])\n",
    "\n",
    "        q_table[state, action] += alpha * (\n",
    "            reward + gamma * q_table[state, next_action] - q_table[state, action]\n",
    "        )\n",
    "\n",
    "        if reward >= 1:\n",
    "            total_clicks += 1\n",
    "\n",
    "    clics_par_episode.append(total_clicks)\n"
   ]
  },
  {
   "cell_type": "code",
   "execution_count": null,
   "id": "0509eacd",
   "metadata": {},
   "outputs": [
    {
     "data": {
      "image/png": "[encoded data removed]",
      "text/plain": [
       "<Figure size 1000x500 with 1 Axes>"
      ]
     },
     "metadata": {},
     "output_type": "display_data"
    }
   ],
   "source": [
    "plt.plot(clics_par_episode)\n",
    "plt.title(\"SARSA avec affinité de genres\")\n",
    "plt.xlabel(\"Épisodes\")\n",
    "plt.ylabel(\"Clics pondérés\")\n",
    "plt.grid()\n",
    "plt.show()\n"
   ]
  },
  {
   "cell_type": "code",
   "execution_count": null,
   "id": "74f1e115",
   "metadata": {},
   "outputs": [],
   "source": [
    "# --- Recommandation pour chaque utilisateur ---\n",
    "recommandations = {}\n",
    "\n",
    "for user_id in user_to_idx:\n",
    "    user_idx = user_to_idx[user_id]\n",
    "    seen_ids = df[df['userId'] == user_id]['movieId'].map(movie_to_idx).dropna().astype(int).tolist()\n",
    "\n",
    "    scores = q_table[user_idx].copy()\n",
    "    scores[seen_ids] = -np.inf  # exclure les films vus\n",
    "\n",
    "    top_idx = np.argmax(scores)\n",
    "    movie_id = idx_to_movie[top_idx]\n",
    "    title = idx_to_title.get(movie_id, \"Inconnu\")\n",
    "\n",
    "    recommandations[user_id] = title\n",
    "\n"
   ]
  },
  {
   "cell_type": "code",
   "execution_count": null,
   "id": "0db810c3",
   "metadata": {},
   "outputs": [
    {
     "name": "stdout",
     "output_type": "stream",
     "text": [
      "✅ Recommandations générées dans recommandations_sarsa.csv\n"
     ]
    }
   ],
   "source": [
    "# Exporter les recommandations\n",
    "df_reco = pd.DataFrame(recommandations)\n",
    "df_reco.to_csv(\"recommandations_sarsa.csv\", index=False)\n",
    "\n",
    "print(\"✅ Recommandations générées dans recommandations_sarsa.csv\")"
   ]
  },
  {
   "cell_type": "code",
   "execution_count": null,
   "id": "67262a26",
   "metadata": {},
   "outputs": [],
   "source": [
    "df_reco1 = pd.read_csv(\"recommandations_sarsa.csv\")"
   ]
  },
  {
   "cell_type": "code",
   "execution_count": null,
   "id": "a3108acd",
   "metadata": {},
   "outputs": [
    {
     "data": {
      "text/html": [
       "<div>\n",
       "<style scoped>\n",
       "    .dataframe tbody tr th:only-of-type {\n",
       "        vertical-align: middle;\n",
       "    }\n",
       "\n",
       "    .dataframe tbody tr th {\n",
       "        vertical-align: top;\n",
       "    }\n",
       "\n",
       "    .dataframe thead th {\n",
       "        text-align: right;\n",
       "    }\n",
       "</style>\n",
       "<table border=\"1\" class=\"dataframe\">\n",
       "  <thead>\n",
       "    <tr style=\"text-align: right;\">\n",
       "      <th></th>\n",
       "      <th>userId</th>\n",
       "      <th>movieId</th>\n",
       "      <th>title</th>\n",
       "      <th>score_Q</th>\n",
       "    </tr>\n",
       "  </thead>\n",
       "  <tbody>\n",
       "    <tr>\n",
       "      <th>0</th>\n",
       "      <td>68</td>\n",
       "      <td>32</td>\n",
       "      <td>Twelve Monkeys (a.k.a. 12 Monkeys) (1995)</td>\n",
       "      <td>0.000</td>\n",
       "    </tr>\n",
       "    <tr>\n",
       "      <th>1</th>\n",
       "      <td>177</td>\n",
       "      <td>3578</td>\n",
       "      <td>Gladiator (2000)</td>\n",
       "      <td>2.154</td>\n",
       "    </tr>\n",
       "    <tr>\n",
       "      <th>2</th>\n",
       "      <td>177</td>\n",
       "      <td>457</td>\n",
       "      <td>Fugitive, The (1993)</td>\n",
       "      <td>1.207</td>\n",
       "    </tr>\n",
       "    <tr>\n",
       "      <th>3</th>\n",
       "      <td>177</td>\n",
       "      <td>2762</td>\n",
       "      <td>Sixth Sense, The (1999)</td>\n",
       "      <td>0.729</td>\n",
       "    </tr>\n",
       "    <tr>\n",
       "      <th>4</th>\n",
       "      <td>177</td>\n",
       "      <td>2028</td>\n",
       "      <td>Saving Private Ryan (1998)</td>\n",
       "      <td>0.669</td>\n",
       "    </tr>\n",
       "    <tr>\n",
       "      <th>5</th>\n",
       "      <td>177</td>\n",
       "      <td>4226</td>\n",
       "      <td>Memento (2000)</td>\n",
       "      <td>0.024</td>\n",
       "    </tr>\n",
       "    <tr>\n",
       "      <th>6</th>\n",
       "      <td>182</td>\n",
       "      <td>588</td>\n",
       "      <td>Aladdin (1992)</td>\n",
       "      <td>0.675</td>\n",
       "    </tr>\n",
       "    <tr>\n",
       "      <th>7</th>\n",
       "      <td>182</td>\n",
       "      <td>500</td>\n",
       "      <td>Mrs. Doubtfire (1993)</td>\n",
       "      <td>0.488</td>\n",
       "    </tr>\n",
       "    <tr>\n",
       "      <th>8</th>\n",
       "      <td>182</td>\n",
       "      <td>344</td>\n",
       "      <td>Ace Ventura: Pet Detective (1994)</td>\n",
       "      <td>0.000</td>\n",
       "    </tr>\n",
       "    <tr>\n",
       "      <th>9</th>\n",
       "      <td>182</td>\n",
       "      <td>364</td>\n",
       "      <td>Lion King, The (1994)</td>\n",
       "      <td>0.000</td>\n",
       "    </tr>\n",
       "  </tbody>\n",
       "</table>\n",
       "</div>"
      ],
      "text/plain": [
       "   userId  movieId                                      title  score_Q\n",
       "0      68       32  Twelve Monkeys (a.k.a. 12 Monkeys) (1995)    0.000\n",
       "1     177     3578                           Gladiator (2000)    2.154\n",
       "2     177      457                       Fugitive, The (1993)    1.207\n",
       "3     177     2762                    Sixth Sense, The (1999)    0.729\n",
       "4     177     2028                 Saving Private Ryan (1998)    0.669\n",
       "5     177     4226                             Memento (2000)    0.024\n",
       "6     182      588                             Aladdin (1992)    0.675\n",
       "7     182      500                      Mrs. Doubtfire (1993)    0.488\n",
       "8     182      344          Ace Ventura: Pet Detective (1994)    0.000\n",
       "9     182      364                      Lion King, The (1994)    0.000"
      ]
     },
     "execution_count": 108,
     "metadata": {},
     "output_type": "execute_result"
    }
   ],
   "source": [
    "df_reco1.head(10)"
   ]
  },
  {
   "cell_type": "code",
   "execution_count": null,
   "id": "2e16bbca",
   "metadata": {},
   "outputs": [],
   "source": []
  }
 ],
 "metadata": {
  "kernelspec": {
   "display_name": "Python 3",
   "language": "python",
   "name": "python3"
  },
  "language_info": {
   "codemirror_mode": {
    "name": "ipython",
    "version": 3
   },
   "file_extension": ".py",
   "mimetype": "text/x-python",
   "name": "python",
   "nbconvert_exporter": "python",
   "pygments_lexer": "ipython3",
   "version": "3.12.2"
  }
 },
 "nbformat": 4,
 "nbformat_minor": 5
}
