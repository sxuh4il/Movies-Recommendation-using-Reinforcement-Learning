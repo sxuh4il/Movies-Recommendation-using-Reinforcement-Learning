{
 "cells": [
  {
   "cell_type": "markdown",
   "id": "b74f778b",
   "metadata": {},
   "source": [
    "## Recommendation System Of films using SARSA"
   ]
  },
  {
   "cell_type": "markdown",
   "id": "d53b8de5",
   "metadata": {},
   "source": [
    "### 🧠 Project goal :\n",
    "Build an intelligent recommendation system that learns to suggest the most relevant content to users by analysing their interactions (clicks, time spent, etc.). The system uses the reinforcement learning algorithm SARSA (State-Action-Reward-State-Action) to learn an optimised recommendation policy.\n",
    "\n"
   ]
  },
  {
   "cell_type": "markdown",
   "id": "f8b22c3a",
   "metadata": {},
   "source": [
    "#### Labraries"
   ]
  },
  {
   "cell_type": "code",
   "execution_count": 24,
   "id": "76bab252",
   "metadata": {},
   "outputs": [],
   "source": [
    "import numpy as np\n",
    "import pandas as pd\n",
    "import matplotlib.pyplot as plt\n",
    "import seaborn as sns\n",
    "from tqdm import tqdm\n"
   ]
  },
  {
   "cell_type": "markdown",
   "id": "530b88d0",
   "metadata": {},
   "source": [
    "#### Load data"
   ]
  },
  {
   "cell_type": "code",
   "execution_count": 25,
   "id": "2fa67138",
   "metadata": {},
   "outputs": [],
   "source": [
    "df = pd.read_csv(\"data/merged_movie_data.csv\",sep=';')"
   ]
  },
  {
   "cell_type": "code",
   "execution_count": 26,
   "id": "91103d78",
   "metadata": {},
   "outputs": [
    {
     "data": {
      "text/html": [
       "<div>\n",
       "<style scoped>\n",
       "    .dataframe tbody tr th:only-of-type {\n",
       "        vertical-align: middle;\n",
       "    }\n",
       "\n",
       "    .dataframe tbody tr th {\n",
       "        vertical-align: top;\n",
       "    }\n",
       "\n",
       "    .dataframe thead th {\n",
       "        text-align: right;\n",
       "    }\n",
       "</style>\n",
       "<table border=\"1\" class=\"dataframe\">\n",
       "  <thead>\n",
       "    <tr style=\"text-align: right;\">\n",
       "      <th></th>\n",
       "      <th>userId</th>\n",
       "      <th>movieId</th>\n",
       "      <th>rating</th>\n",
       "      <th>timestamp</th>\n",
       "      <th>title</th>\n",
       "      <th>genres</th>\n",
       "    </tr>\n",
       "  </thead>\n",
       "  <tbody>\n",
       "    <tr>\n",
       "      <th>65556</th>\n",
       "      <td>420</td>\n",
       "      <td>8464</td>\n",
       "      <td>4.5</td>\n",
       "      <td>1218207751</td>\n",
       "      <td>Super Size Me (2004)</td>\n",
       "      <td>Comedy|Documentary|Drama</td>\n",
       "    </tr>\n",
       "    <tr>\n",
       "      <th>66898</th>\n",
       "      <td>432</td>\n",
       "      <td>3156</td>\n",
       "      <td>3.0</td>\n",
       "      <td>1335139782</td>\n",
       "      <td>Bicentennial Man (1999)</td>\n",
       "      <td>Drama|Romance|Sci-Fi</td>\n",
       "    </tr>\n",
       "    <tr>\n",
       "      <th>81787</th>\n",
       "      <td>517</td>\n",
       "      <td>6794</td>\n",
       "      <td>0.5</td>\n",
       "      <td>1487955808</td>\n",
       "      <td>Beethoven's 2nd (1993)</td>\n",
       "      <td>Children|Comedy</td>\n",
       "    </tr>\n",
       "    <tr>\n",
       "      <th>79360</th>\n",
       "      <td>492</td>\n",
       "      <td>778</td>\n",
       "      <td>2.0</td>\n",
       "      <td>863976201</td>\n",
       "      <td>Trainspotting (1996)</td>\n",
       "      <td>Comedy|Crime|Drama</td>\n",
       "    </tr>\n",
       "    <tr>\n",
       "      <th>94266</th>\n",
       "      <td>599</td>\n",
       "      <td>7439</td>\n",
       "      <td>2.0</td>\n",
       "      <td>1498510942</td>\n",
       "      <td>Punisher, The (2004)</td>\n",
       "      <td>Action|Crime|Thriller</td>\n",
       "    </tr>\n",
       "    <tr>\n",
       "      <th>81498</th>\n",
       "      <td>515</td>\n",
       "      <td>122918</td>\n",
       "      <td>5.0</td>\n",
       "      <td>1513602063</td>\n",
       "      <td>Guardians of the Galaxy 2 (2017)</td>\n",
       "      <td>Action|Adventure|Sci-Fi</td>\n",
       "    </tr>\n",
       "    <tr>\n",
       "      <th>77417</th>\n",
       "      <td>483</td>\n",
       "      <td>1729</td>\n",
       "      <td>3.5</td>\n",
       "      <td>1327277503</td>\n",
       "      <td>Jackie Brown (1997)</td>\n",
       "      <td>Crime|Drama|Thriller</td>\n",
       "    </tr>\n",
       "    <tr>\n",
       "      <th>12141</th>\n",
       "      <td>74</td>\n",
       "      <td>8341</td>\n",
       "      <td>3.5</td>\n",
       "      <td>1207499990</td>\n",
       "      <td>Oliver Twist (1948)</td>\n",
       "      <td>Adventure|Crime|Drama</td>\n",
       "    </tr>\n",
       "    <tr>\n",
       "      <th>71016</th>\n",
       "      <td>453</td>\n",
       "      <td>2770</td>\n",
       "      <td>4.0</td>\n",
       "      <td>1005967269</td>\n",
       "      <td>Bowfinger (1999)</td>\n",
       "      <td>Comedy</td>\n",
       "    </tr>\n",
       "    <tr>\n",
       "      <th>45961</th>\n",
       "      <td>305</td>\n",
       "      <td>293</td>\n",
       "      <td>3.5</td>\n",
       "      <td>1460135877</td>\n",
       "      <td>Léon: The Professional (a.k.a. The Professiona...</td>\n",
       "      <td>Action|Crime|Drama|Thriller</td>\n",
       "    </tr>\n",
       "  </tbody>\n",
       "</table>\n",
       "</div>"
      ],
      "text/plain": [
       "       userId  movieId  rating   timestamp  \\\n",
       "65556     420     8464     4.5  1218207751   \n",
       "66898     432     3156     3.0  1335139782   \n",
       "81787     517     6794     0.5  1487955808   \n",
       "79360     492      778     2.0   863976201   \n",
       "94266     599     7439     2.0  1498510942   \n",
       "81498     515   122918     5.0  1513602063   \n",
       "77417     483     1729     3.5  1327277503   \n",
       "12141      74     8341     3.5  1207499990   \n",
       "71016     453     2770     4.0  1005967269   \n",
       "45961     305      293     3.5  1460135877   \n",
       "\n",
       "                                                   title  \\\n",
       "65556                               Super Size Me (2004)   \n",
       "66898                            Bicentennial Man (1999)   \n",
       "81787                             Beethoven's 2nd (1993)   \n",
       "79360                               Trainspotting (1996)   \n",
       "94266                               Punisher, The (2004)   \n",
       "81498                   Guardians of the Galaxy 2 (2017)   \n",
       "77417                                Jackie Brown (1997)   \n",
       "12141                                Oliver Twist (1948)   \n",
       "71016                                   Bowfinger (1999)   \n",
       "45961  Léon: The Professional (a.k.a. The Professiona...   \n",
       "\n",
       "                            genres  \n",
       "65556     Comedy|Documentary|Drama  \n",
       "66898         Drama|Romance|Sci-Fi  \n",
       "81787              Children|Comedy  \n",
       "79360           Comedy|Crime|Drama  \n",
       "94266        Action|Crime|Thriller  \n",
       "81498      Action|Adventure|Sci-Fi  \n",
       "77417         Crime|Drama|Thriller  \n",
       "12141        Adventure|Crime|Drama  \n",
       "71016                       Comedy  \n",
       "45961  Action|Crime|Drama|Thriller  "
      ]
     },
     "execution_count": 26,
     "metadata": {},
     "output_type": "execute_result"
    }
   ],
   "source": [
    "df.sample(10)\n"
   ]
  },
  {
   "cell_type": "markdown",
   "id": "79ad4f43",
   "metadata": {},
   "source": [
    "#### Re-indexing\n"
   ]
  },
  {
   "cell_type": "markdown",
   "id": "ff710241",
   "metadata": {},
   "source": [
    "**=> userId for Q-Table rows** \n",
    "\n",
    "**=> movieId for Q-Table columns** \n",
    "\n",
    "**=> idx_to_movie when argmax(Q[“state”]) is extracted to translate the index into a real movieId**."
   ]
  },
  {
   "cell_type": "code",
   "execution_count": 27,
   "id": "b292d5fe",
   "metadata": {},
   "outputs": [],
   "source": [
    "user_to_idx = {uid: idx for idx, uid in enumerate(sorted(df['userId'].unique()))}\n",
    "movie_to_idx = {mid: idx for idx, mid in enumerate(sorted(df['movieId'].unique()))}\n",
    "idx_to_movie = {idx: mid for mid, idx in movie_to_idx.items()}\n",
    "idx_to_title = dict(zip(df['movieId'], df['title']))\n",
    "movie_genres = dict(zip(df['movieId'], df['genres']))"
   ]
  },
  {
   "cell_type": "code",
   "execution_count": 28,
   "id": "2f1dbbfb",
   "metadata": {},
   "outputs": [],
   "source": [
    "n_users = len(user_to_idx)\n",
    "n_movies = len(movie_to_idx)"
   ]
  },
  {
   "cell_type": "markdown",
   "id": "ef5e8c10",
   "metadata": {},
   "source": [
    "#### Extract all possible movie genres\n"
   ]
  },
  {
   "cell_type": "code",
   "execution_count": 33,
   "id": "e88a400a",
   "metadata": {},
   "outputs": [],
   "source": [
    "genre_set = set()\n",
    "for g in df['genres']:\n",
    "    if isinstance(g, str):\n",
    "        genre_set.update(g.split('|'))\n",
    "        \n",
    "all_genres = sorted(genre_set)\n",
    "genre_to_idx = {g: i for i, g in enumerate(all_genres)}"
   ]
  },
  {
   "cell_type": "markdown",
   "id": "5d199320",
   "metadata": {},
   "source": [
    "#### Genre coding for each film"
   ]
  },
  {
   "cell_type": "code",
   "execution_count": 9,
   "id": "59528d69",
   "metadata": {},
   "outputs": [],
   "source": [
    "def encoder_genres(genre_str):\n",
    "    vector = np.zeros(len(all_genres))\n",
    "    for g in genre_str.split('|'):\n",
    "        if g in genre_to_idx:\n",
    "            vector[genre_to_idx[g]] = 1\n",
    "    return vector"
   ]
  },
  {
   "cell_type": "code",
   "execution_count": 36,
   "id": "30e66420",
   "metadata": {},
   "outputs": [],
   "source": [
    "movie_genre_vectors = {mid: encoder_genres(genre_str) if isinstance(genre_str, str) else np.zeros(len(all_genres)) for mid, genre_str in movie_genres.items()}\n"
   ]
  },
  {
   "cell_type": "markdown",
   "id": "97d48362",
   "metadata": {},
   "source": [
    "#### Q-table\n"
   ]
  },
  {
   "cell_type": "code",
   "execution_count": 40,
   "id": "bb9c80db",
   "metadata": {},
   "outputs": [],
   "source": [
    "q_table = np.zeros((n_users, n_movies))\n",
    "\n",
    "# Hyperparamètres\n",
    "alpha,gamma,epsilon,episodes ,max_steps,coeff_genre = 0.1, 0.9, 0.1,500, 10, 0.5\n"
   ]
  },
  {
   "cell_type": "markdown",
   "id": "64eacf59",
   "metadata": {},
   "source": [
    "#### Politique ε-greedy\n"
   ]
  },
  {
   "cell_type": "code",
   "execution_count": 39,
   "id": "3691effe",
   "metadata": {},
   "outputs": [],
   "source": [
    "def choisir_action(user_idx):\n",
    "    if np.random.rand() < epsilon:\n",
    "        return np.random.randint(n_movies)\n",
    "    else:\n",
    "        return np.argmax(q_table[user_idx])"
   ]
  },
  {
   "cell_type": "markdown",
   "id": "f2cd5fa6",
   "metadata": {},
   "source": [
    "#### Get a user's favorite genres\n",
    "\n"
   ]
  },
  {
   "cell_type": "code",
   "execution_count": 43,
   "id": "0cb85f41",
   "metadata": {},
   "outputs": [],
   "source": [
    "\n",
    "def genres_utilisateur(user_id):\n",
    "    liked = df[(df['userId'] == user_id) & (df['rating'] >= 3.0)]\n",
    "    if liked.empty:\n",
    "        return np.zeros(len(all_genres))\n",
    "    vectors = np.array([movie_genre_vectors[mid] for mid in liked['movieId'] if mid in movie_genre_vectors])\n",
    "    return vectors.mean(axis=0)"
   ]
  },
  {
   "cell_type": "markdown",
   "id": "c37b3dc9",
   "metadata": {},
   "source": [
    "#### Gender affinity awards\n",
    "\n"
   ]
  },
  {
   "cell_type": "code",
   "execution_count": 42,
   "id": "659720bd",
   "metadata": {},
   "outputs": [],
   "source": [
    "def obtenir_recompense(user_idx, movie_idx):\n",
    "    user_id = list(user_to_idx.keys())[user_idx]\n",
    "    movie_id = list(movie_to_idx.keys())[movie_idx]\n",
    "\n",
    "    note_row = df[(df['userId'] == user_id) & (df['movieId'] == movie_id)]\n",
    "    note_reward = 1 if not note_row.empty and note_row['rating'].values[0] >= 3.0 else 0\n",
    "\n",
    "    user_pref = genres_utilisateur(user_id)\n",
    "    movie_vec = movie_genre_vectors.get(movie_id, np.zeros(len(all_genres)))\n",
    "    genre_similarity = np.dot(user_pref, movie_vec) / (np.linalg.norm(user_pref) + 1e-5)\n",
    "\n",
    "    return note_reward + coeff_genre * genre_similarity"
   ]
  },
  {
   "cell_type": "markdown",
   "id": "a8ded784",
   "metadata": {},
   "source": [
    "#### SARSA training\n",
    "\n"
   ]
  },
  {
   "cell_type": "code",
   "execution_count": 44,
   "id": "b0bb0edc",
   "metadata": {},
   "outputs": [
    {
     "name": "stderr",
     "output_type": "stream",
     "text": [
      "Training SARSA: 100%|██████████| 500/500 [3:06:07<00:00, 22.34s/it]  \n"
     ]
    }
   ],
   "source": [
    "# Training loop\n",
    "clics_par_episode = []\n",
    "\n",
    "for ep in tqdm(range(episodes), desc=\"Training SARSA\"):\n",
    "    total_reward = 0\n",
    "    for user_id in user_to_idx:\n",
    "        user_idx = user_to_idx[user_id]\n",
    "        state = choisir_action(user_idx)\n",
    "\n",
    "        for _ in range(max_steps):\n",
    "            action = choisir_action(user_idx)\n",
    "            reward = obtenir_recompense(user_idx, action)\n",
    "            next_state = choisir_action(user_idx)\n",
    "            q_table[user_idx, state] += alpha * (\n",
    "                reward + gamma * q_table[user_idx, next_state] - q_table[user_idx, state]\n",
    "            )\n",
    "            state = next_state\n",
    "            total_reward += reward\n",
    "\n",
    "    clics_par_episode.append(total_reward)"
   ]
  },
  {
   "cell_type": "markdown",
   "id": "bac5844e",
   "metadata": {},
   "source": [
    "#### Plot training curve\n"
   ]
  },
  {
   "cell_type": "code",
   "execution_count": 45,
   "id": "0509eacd",
   "metadata": {},
   "outputs": [
    {
     "data": {
      "image/png": "[encoded data removed]",
      "text/plain": [
       "<Figure size 640x480 with 1 Axes>"
      ]
     },
     "metadata": {},
     "output_type": "display_data"
    }
   ],
   "source": [
    "plt.plot(clics_par_episode)\n",
    "plt.title(\"SARSA avec affinité de genres\")\n",
    "plt.xlabel(\"Épisodes\")\n",
    "plt.ylabel(\"Clics pondérés\")\n",
    "plt.grid()\n",
    "plt.show()\n"
   ]
  },
  {
   "cell_type": "markdown",
   "id": "06387577",
   "metadata": {},
   "source": [
    "#### Recommend N unseen movies to a user\n"
   ]
  },
  {
   "cell_type": "code",
   "execution_count": 48,
   "id": "6495b65a",
   "metadata": {},
   "outputs": [],
   "source": [
    "def recommend_movies_for_user(user_id, N=5):\n",
    "    user_idx = user_to_idx[user_id]\n",
    "    seen_movies = set(df[df['userId'] == user_id]['movieId'])\n",
    "    unseen_movie_indices = [idx for idx in range(n_movies) if idx_to_movie[idx] not in seen_movies]\n",
    "    q_values = [(idx, q_table[user_idx, idx]) for idx in unseen_movie_indices]\n",
    "    top_q = sorted(q_values, key=lambda x: x[1], reverse=True)[:N]\n",
    "    return [(idx_to_movie[idx], idx_to_title[idx_to_movie[idx]], q) for idx, q in top_q]\n"
   ]
  },
  {
   "cell_type": "markdown",
   "id": "0d339d2f",
   "metadata": {},
   "source": [
    "#### Generate recommendations for all users and save to CSV\n"
   ]
  },
  {
   "cell_type": "code",
   "execution_count": 49,
   "id": "74f1e115",
   "metadata": {},
   "outputs": [
    {
     "name": "stderr",
     "output_type": "stream",
     "text": [
      "Generating recommendations: 100%|██████████| 610/610 [00:07<00:00, 76.57it/s] \n"
     ]
    }
   ],
   "source": [
    "recommendations = []\n",
    "\n",
    "for user_id in tqdm(user_to_idx.keys(), desc=\"Generating recommendations\"):\n",
    "    recs = recommend_movies_for_user(user_id, N=5)\n",
    "    for movie_id, title, score in recs:\n",
    "        recommendations.append({\n",
    "            'userId': user_id,\n",
    "            'movieId': movie_id,\n",
    "            'title': title,\n",
    "            'Q_value': round(score, 4)\n",
    "        })"
   ]
  },
  {
   "cell_type": "code",
   "execution_count": 50,
   "id": "0db810c3",
   "metadata": {},
   "outputs": [
    {
     "name": "stdout",
     "output_type": "stream",
     "text": [
      "✅ Recommendations saved to data/recommendations_sarsa.csv\n"
     ]
    }
   ],
   "source": [
    "recommendations_df = pd.DataFrame(recommendations)\n",
    "recommendations_df.to_csv(\"data/recommendations_sarsa.csv\", index=False)\n",
    "print(\"✅ Recommendations saved to data/recommendations_sarsa.csv\")"
   ]
  },
  {
   "cell_type": "code",
   "execution_count": 51,
   "id": "67262a26",
   "metadata": {},
   "outputs": [],
   "source": [
    "df_reco1 = pd.read_csv(\"data/recommendations_sarsa.csv\")"
   ]
  },
  {
   "cell_type": "code",
   "execution_count": 52,
   "id": "a3108acd",
   "metadata": {},
   "outputs": [
    {
     "data": {
      "text/html": [
       "<div>\n",
       "<style scoped>\n",
       "    .dataframe tbody tr th:only-of-type {\n",
       "        vertical-align: middle;\n",
       "    }\n",
       "\n",
       "    .dataframe tbody tr th {\n",
       "        vertical-align: top;\n",
       "    }\n",
       "\n",
       "    .dataframe thead th {\n",
       "        text-align: right;\n",
       "    }\n",
       "</style>\n",
       "<table border=\"1\" class=\"dataframe\">\n",
       "  <thead>\n",
       "    <tr style=\"text-align: right;\">\n",
       "      <th></th>\n",
       "      <th>userId</th>\n",
       "      <th>movieId</th>\n",
       "      <th>title</th>\n",
       "      <th>Q_value</th>\n",
       "    </tr>\n",
       "  </thead>\n",
       "  <tbody>\n",
       "    <tr>\n",
       "      <th>0</th>\n",
       "      <td>1</td>\n",
       "      <td>170937</td>\n",
       "      <td>Win It All (2017)</td>\n",
       "      <td>1.1940</td>\n",
       "    </tr>\n",
       "    <tr>\n",
       "      <th>1</th>\n",
       "      <td>1</td>\n",
       "      <td>5581</td>\n",
       "      <td>Betsy's Wedding (1990)</td>\n",
       "      <td>0.2577</td>\n",
       "    </tr>\n",
       "    <tr>\n",
       "      <th>2</th>\n",
       "      <td>1</td>\n",
       "      <td>59727</td>\n",
       "      <td>Strangers, The (2008)</td>\n",
       "      <td>0.2424</td>\n",
       "    </tr>\n",
       "    <tr>\n",
       "      <th>3</th>\n",
       "      <td>1</td>\n",
       "      <td>169982</td>\n",
       "      <td>Power Rangers (2017)</td>\n",
       "      <td>0.2347</td>\n",
       "    </tr>\n",
       "    <tr>\n",
       "      <th>4</th>\n",
       "      <td>1</td>\n",
       "      <td>184257</td>\n",
       "      <td>Making a Murderer (2015)</td>\n",
       "      <td>0.2188</td>\n",
       "    </tr>\n",
       "    <tr>\n",
       "      <th>5</th>\n",
       "      <td>2</td>\n",
       "      <td>1</td>\n",
       "      <td>Toy Story (1995)</td>\n",
       "      <td>1.0337</td>\n",
       "    </tr>\n",
       "    <tr>\n",
       "      <th>6</th>\n",
       "      <td>2</td>\n",
       "      <td>3394</td>\n",
       "      <td>Blind Date (1987)</td>\n",
       "      <td>0.2607</td>\n",
       "    </tr>\n",
       "    <tr>\n",
       "      <th>7</th>\n",
       "      <td>2</td>\n",
       "      <td>64983</td>\n",
       "      <td>Valkyrie (2008)</td>\n",
       "      <td>0.2555</td>\n",
       "    </tr>\n",
       "    <tr>\n",
       "      <th>8</th>\n",
       "      <td>2</td>\n",
       "      <td>90249</td>\n",
       "      <td>Real Steel (2011)</td>\n",
       "      <td>0.2358</td>\n",
       "    </tr>\n",
       "    <tr>\n",
       "      <th>9</th>\n",
       "      <td>2</td>\n",
       "      <td>3011</td>\n",
       "      <td>They Shoot Horses, Don't They? (1969)</td>\n",
       "      <td>0.2354</td>\n",
       "    </tr>\n",
       "  </tbody>\n",
       "</table>\n",
       "</div>"
      ],
      "text/plain": [
       "   userId  movieId                                  title  Q_value\n",
       "0       1   170937                      Win It All (2017)   1.1940\n",
       "1       1     5581                 Betsy's Wedding (1990)   0.2577\n",
       "2       1    59727                  Strangers, The (2008)   0.2424\n",
       "3       1   169982                   Power Rangers (2017)   0.2347\n",
       "4       1   184257               Making a Murderer (2015)   0.2188\n",
       "5       2        1                       Toy Story (1995)   1.0337\n",
       "6       2     3394                      Blind Date (1987)   0.2607\n",
       "7       2    64983                        Valkyrie (2008)   0.2555\n",
       "8       2    90249                      Real Steel (2011)   0.2358\n",
       "9       2     3011  They Shoot Horses, Don't They? (1969)   0.2354"
      ]
     },
     "execution_count": 52,
     "metadata": {},
     "output_type": "execute_result"
    }
   ],
   "source": [
    "df_reco1.head(10)"
   ]
  }
 ],
 "metadata": {
  "kernelspec": {
   "display_name": "Python 3",
   "language": "python",
   "name": "python3"
  },
  "language_info": {
   "codemirror_mode": {
    "name": "ipython",
    "version": 3
   },
   "file_extension": ".py",
   "mimetype": "text/x-python",
   "name": "python",
   "nbconvert_exporter": "python",
   "pygments_lexer": "ipython3",
   "version": "3.12.2"
  }
 },
 "nbformat": 4,
 "nbformat_minor": 5
}
